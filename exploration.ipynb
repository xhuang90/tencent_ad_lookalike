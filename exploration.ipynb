{
 "cells": [
  {
   "cell_type": "code",
   "execution_count": 102,
   "metadata": {
    "ExecuteTime": {
     "end_time": "2021-03-26T06:23:37.065829Z",
     "start_time": "2021-03-26T06:23:37.062951Z"
    }
   },
   "outputs": [],
   "source": [
    "import pandas as pd"
   ]
  },
  {
   "cell_type": "markdown",
   "metadata": {},
   "source": [
    "# 读取数据"
   ]
  },
  {
   "cell_type": "markdown",
   "metadata": {},
   "source": [
    "## 训练集&测试集处理"
   ]
  },
  {
   "cell_type": "code",
   "execution_count": 103,
   "metadata": {
    "ExecuteTime": {
     "end_time": "2021-03-26T06:23:39.068061Z",
     "start_time": "2021-03-26T06:23:39.065521Z"
    }
   },
   "outputs": [],
   "source": [
    "data_dir = 'data/data_tencent/'"
   ]
  },
  {
   "cell_type": "code",
   "execution_count": 104,
   "metadata": {
    "ExecuteTime": {
     "end_time": "2021-03-26T06:25:24.015844Z",
     "start_time": "2021-03-26T06:23:39.726448Z"
    }
   },
   "outputs": [],
   "source": [
    "# 特征数据集\n",
    "df_user_feature = pd.read_csv(data_dir + 'userFeature.csv')\n",
    "df_ad_feature = pd.read_csv(data_dir + 'adFeature.csv')\n",
    "# 训练集\n",
    "df_train = pd.read_csv(data_dir + 'train.csv')\n",
    "# 测试集\n",
    "df_test1 = pd.read_csv(data_dir + 'test1.csv')\n",
    "df_test2 = pd.read_csv(data_dir + 'test2.csv')"
   ]
  },
  {
   "cell_type": "code",
   "execution_count": 105,
   "metadata": {
    "ExecuteTime": {
     "end_time": "2021-03-26T06:25:24.098669Z",
     "start_time": "2021-03-26T06:25:24.074643Z"
    }
   },
   "outputs": [
    {
     "data": {
      "text/plain": [
       "Index(['LBS', 'age', 'appIdAction', 'appIdInstall', 'carrier',\n",
       "       'consumptionAbility', 'ct', 'education', 'gender', 'house', 'interest1',\n",
       "       'interest2', 'interest3', 'interest4', 'interest5', 'kw1', 'kw2', 'kw3',\n",
       "       'marriageStatus', 'os', 'topic1', 'topic2', 'topic3', 'uid'],\n",
       "      dtype='object')"
      ]
     },
     "execution_count": 105,
     "metadata": {},
     "output_type": "execute_result"
    }
   ],
   "source": [
    "df_user_feature.columns"
   ]
  },
  {
   "cell_type": "code",
   "execution_count": 106,
   "metadata": {
    "ExecuteTime": {
     "end_time": "2021-03-26T06:25:24.244573Z",
     "start_time": "2021-03-26T06:25:24.100562Z"
    }
   },
   "outputs": [
    {
     "data": {
      "text/html": [
       "<div>\n",
       "<style scoped>\n",
       "    .dataframe tbody tr th:only-of-type {\n",
       "        vertical-align: middle;\n",
       "    }\n",
       "\n",
       "    .dataframe tbody tr th {\n",
       "        vertical-align: top;\n",
       "    }\n",
       "\n",
       "    .dataframe thead th {\n",
       "        text-align: right;\n",
       "    }\n",
       "</style>\n",
       "<table border=\"1\" class=\"dataframe\">\n",
       "  <thead>\n",
       "    <tr style=\"text-align: right;\">\n",
       "      <th></th>\n",
       "      <th>LBS</th>\n",
       "      <th>age</th>\n",
       "      <th>appIdAction</th>\n",
       "      <th>appIdInstall</th>\n",
       "      <th>carrier</th>\n",
       "      <th>consumptionAbility</th>\n",
       "      <th>ct</th>\n",
       "      <th>education</th>\n",
       "      <th>gender</th>\n",
       "      <th>house</th>\n",
       "      <th>...</th>\n",
       "      <th>interest5</th>\n",
       "      <th>kw1</th>\n",
       "      <th>kw2</th>\n",
       "      <th>kw3</th>\n",
       "      <th>marriageStatus</th>\n",
       "      <th>os</th>\n",
       "      <th>topic1</th>\n",
       "      <th>topic2</th>\n",
       "      <th>topic3</th>\n",
       "      <th>uid</th>\n",
       "    </tr>\n",
       "  </thead>\n",
       "  <tbody>\n",
       "    <tr>\n",
       "      <th>0</th>\n",
       "      <td>950.0</td>\n",
       "      <td>4</td>\n",
       "      <td>NaN</td>\n",
       "      <td>NaN</td>\n",
       "      <td>1</td>\n",
       "      <td>2</td>\n",
       "      <td>3 1</td>\n",
       "      <td>7</td>\n",
       "      <td>2</td>\n",
       "      <td>NaN</td>\n",
       "      <td>...</td>\n",
       "      <td>52 100 72 131 116 11 71 12 8 113 28 73 6 132 9...</td>\n",
       "      <td>664359 276966 734911 103617 562294</td>\n",
       "      <td>11395 79112 115065 77033 36176</td>\n",
       "      <td>NaN</td>\n",
       "      <td>11</td>\n",
       "      <td>2</td>\n",
       "      <td>9826 105 8525 5488 7281</td>\n",
       "      <td>9708 5553 6745 7477 7150</td>\n",
       "      <td>NaN</td>\n",
       "      <td>26325489</td>\n",
       "    </tr>\n",
       "    <tr>\n",
       "      <th>1</th>\n",
       "      <td>803.0</td>\n",
       "      <td>2</td>\n",
       "      <td>NaN</td>\n",
       "      <td>NaN</td>\n",
       "      <td>1</td>\n",
       "      <td>1</td>\n",
       "      <td>3 1</td>\n",
       "      <td>2</td>\n",
       "      <td>1</td>\n",
       "      <td>NaN</td>\n",
       "      <td>...</td>\n",
       "      <td>NaN</td>\n",
       "      <td>338851 361151 542834 496283 229952</td>\n",
       "      <td>80263 39618 53539 180 38163</td>\n",
       "      <td>NaN</td>\n",
       "      <td>5 13</td>\n",
       "      <td>1</td>\n",
       "      <td>4391 9140 5669 1348 4388</td>\n",
       "      <td>9401 7724 1380 8890 7153</td>\n",
       "      <td>NaN</td>\n",
       "      <td>1184123</td>\n",
       "    </tr>\n",
       "    <tr>\n",
       "      <th>2</th>\n",
       "      <td>927.0</td>\n",
       "      <td>1</td>\n",
       "      <td>NaN</td>\n",
       "      <td>NaN</td>\n",
       "      <td>3</td>\n",
       "      <td>1</td>\n",
       "      <td>3 1</td>\n",
       "      <td>5</td>\n",
       "      <td>1</td>\n",
       "      <td>NaN</td>\n",
       "      <td>...</td>\n",
       "      <td>77 72 80 116 101 13 1 109 8 50 6 42 76 9 46 36...</td>\n",
       "      <td>746140 695808 126355 771775 411511</td>\n",
       "      <td>105115 71378 41409 74061 44005</td>\n",
       "      <td>NaN</td>\n",
       "      <td>13 10</td>\n",
       "      <td>1</td>\n",
       "      <td>1502 5488 9826 2187 8088</td>\n",
       "      <td>5005 9154 2756 5612 4209</td>\n",
       "      <td>NaN</td>\n",
       "      <td>76072711</td>\n",
       "    </tr>\n",
       "    <tr>\n",
       "      <th>3</th>\n",
       "      <td>486.0</td>\n",
       "      <td>4</td>\n",
       "      <td>NaN</td>\n",
       "      <td>NaN</td>\n",
       "      <td>3</td>\n",
       "      <td>1</td>\n",
       "      <td>1 3</td>\n",
       "      <td>7</td>\n",
       "      <td>1</td>\n",
       "      <td>NaN</td>\n",
       "      <td>...</td>\n",
       "      <td>100 80 92 37 116 13 47 4 71 8 50 28 98 115 6 4...</td>\n",
       "      <td>283399 402245 734509 654027 32061</td>\n",
       "      <td>74010 32918 67882 116802 20957</td>\n",
       "      <td>NaN</td>\n",
       "      <td>11</td>\n",
       "      <td>1 2</td>\n",
       "      <td>1619 7342 3064 9213 8525</td>\n",
       "      <td>810 2438 5659 1844 9262</td>\n",
       "      <td>NaN</td>\n",
       "      <td>63071413</td>\n",
       "    </tr>\n",
       "    <tr>\n",
       "      <th>4</th>\n",
       "      <td>112.0</td>\n",
       "      <td>5</td>\n",
       "      <td>NaN</td>\n",
       "      <td>NaN</td>\n",
       "      <td>3</td>\n",
       "      <td>2</td>\n",
       "      <td>3 1 4 2</td>\n",
       "      <td>6</td>\n",
       "      <td>1</td>\n",
       "      <td>NaN</td>\n",
       "      <td>...</td>\n",
       "      <td>131 116 13 8 6 132 42 9 59 18 58 64 129 103</td>\n",
       "      <td>562294 157603 589706 657719 495672</td>\n",
       "      <td>62764 97803 89066 55545 74061</td>\n",
       "      <td>NaN</td>\n",
       "      <td>11</td>\n",
       "      <td>1</td>\n",
       "      <td>477 9826 5808 644 2747</td>\n",
       "      <td>5483 2199 5424 1511 7751</td>\n",
       "      <td>NaN</td>\n",
       "      <td>81294159</td>\n",
       "    </tr>\n",
       "  </tbody>\n",
       "</table>\n",
       "<p>5 rows × 24 columns</p>\n",
       "</div>"
      ],
      "text/plain": [
       "     LBS  age appIdAction appIdInstall  carrier  consumptionAbility       ct  \\\n",
       "0  950.0    4         NaN          NaN        1                   2      3 1   \n",
       "1  803.0    2         NaN          NaN        1                   1      3 1   \n",
       "2  927.0    1         NaN          NaN        3                   1      3 1   \n",
       "3  486.0    4         NaN          NaN        3                   1      1 3   \n",
       "4  112.0    5         NaN          NaN        3                   2  3 1 4 2   \n",
       "\n",
       "   education  gender  house  ...  \\\n",
       "0          7       2    NaN  ...   \n",
       "1          2       1    NaN  ...   \n",
       "2          5       1    NaN  ...   \n",
       "3          7       1    NaN  ...   \n",
       "4          6       1    NaN  ...   \n",
       "\n",
       "                                           interest5  \\\n",
       "0  52 100 72 131 116 11 71 12 8 113 28 73 6 132 9...   \n",
       "1                                                NaN   \n",
       "2  77 72 80 116 101 13 1 109 8 50 6 42 76 9 46 36...   \n",
       "3  100 80 92 37 116 13 47 4 71 8 50 28 98 115 6 4...   \n",
       "4        131 116 13 8 6 132 42 9 59 18 58 64 129 103   \n",
       "\n",
       "                                  kw1                             kw2  kw3  \\\n",
       "0  664359 276966 734911 103617 562294  11395 79112 115065 77033 36176  NaN   \n",
       "1  338851 361151 542834 496283 229952     80263 39618 53539 180 38163  NaN   \n",
       "2  746140 695808 126355 771775 411511  105115 71378 41409 74061 44005  NaN   \n",
       "3   283399 402245 734509 654027 32061  74010 32918 67882 116802 20957  NaN   \n",
       "4  562294 157603 589706 657719 495672   62764 97803 89066 55545 74061  NaN   \n",
       "\n",
       "  marriageStatus   os                    topic1                    topic2  \\\n",
       "0             11    2   9826 105 8525 5488 7281  9708 5553 6745 7477 7150   \n",
       "1           5 13    1  4391 9140 5669 1348 4388  9401 7724 1380 8890 7153   \n",
       "2          13 10    1  1502 5488 9826 2187 8088  5005 9154 2756 5612 4209   \n",
       "3             11  1 2  1619 7342 3064 9213 8525   810 2438 5659 1844 9262   \n",
       "4             11    1    477 9826 5808 644 2747  5483 2199 5424 1511 7751   \n",
       "\n",
       "  topic3       uid  \n",
       "0    NaN  26325489  \n",
       "1    NaN   1184123  \n",
       "2    NaN  76072711  \n",
       "3    NaN  63071413  \n",
       "4    NaN  81294159  \n",
       "\n",
       "[5 rows x 24 columns]"
      ]
     },
     "execution_count": 106,
     "metadata": {},
     "output_type": "execute_result"
    }
   ],
   "source": [
    "df_user_feature.head()"
   ]
  },
  {
   "cell_type": "code",
   "execution_count": 107,
   "metadata": {
    "ExecuteTime": {
     "end_time": "2021-03-26T06:25:24.267169Z",
     "start_time": "2021-03-26T06:25:24.246335Z"
    }
   },
   "outputs": [
    {
     "data": {
      "text/html": [
       "<div>\n",
       "<style scoped>\n",
       "    .dataframe tbody tr th:only-of-type {\n",
       "        vertical-align: middle;\n",
       "    }\n",
       "\n",
       "    .dataframe tbody tr th {\n",
       "        vertical-align: top;\n",
       "    }\n",
       "\n",
       "    .dataframe thead th {\n",
       "        text-align: right;\n",
       "    }\n",
       "</style>\n",
       "<table border=\"1\" class=\"dataframe\">\n",
       "  <thead>\n",
       "    <tr style=\"text-align: right;\">\n",
       "      <th></th>\n",
       "      <th>aid</th>\n",
       "      <th>advertiserId</th>\n",
       "      <th>campaignId</th>\n",
       "      <th>creativeId</th>\n",
       "      <th>creativeSize</th>\n",
       "      <th>adCategoryId</th>\n",
       "      <th>productId</th>\n",
       "      <th>productType</th>\n",
       "    </tr>\n",
       "  </thead>\n",
       "  <tbody>\n",
       "    <tr>\n",
       "      <th>0</th>\n",
       "      <td>177</td>\n",
       "      <td>8203</td>\n",
       "      <td>76104</td>\n",
       "      <td>1500666</td>\n",
       "      <td>59</td>\n",
       "      <td>282</td>\n",
       "      <td>0</td>\n",
       "      <td>6</td>\n",
       "    </tr>\n",
       "    <tr>\n",
       "      <th>1</th>\n",
       "      <td>2050</td>\n",
       "      <td>19441</td>\n",
       "      <td>178687</td>\n",
       "      <td>245165</td>\n",
       "      <td>53</td>\n",
       "      <td>1</td>\n",
       "      <td>0</td>\n",
       "      <td>6</td>\n",
       "    </tr>\n",
       "    <tr>\n",
       "      <th>2</th>\n",
       "      <td>1716</td>\n",
       "      <td>5552</td>\n",
       "      <td>158101</td>\n",
       "      <td>1080850</td>\n",
       "      <td>35</td>\n",
       "      <td>27</td>\n",
       "      <td>113</td>\n",
       "      <td>9</td>\n",
       "    </tr>\n",
       "    <tr>\n",
       "      <th>3</th>\n",
       "      <td>336</td>\n",
       "      <td>370</td>\n",
       "      <td>4833</td>\n",
       "      <td>119845</td>\n",
       "      <td>22</td>\n",
       "      <td>67</td>\n",
       "      <td>113</td>\n",
       "      <td>9</td>\n",
       "    </tr>\n",
       "    <tr>\n",
       "      <th>4</th>\n",
       "      <td>671</td>\n",
       "      <td>45705</td>\n",
       "      <td>352827</td>\n",
       "      <td>660519</td>\n",
       "      <td>42</td>\n",
       "      <td>67</td>\n",
       "      <td>0</td>\n",
       "      <td>4</td>\n",
       "    </tr>\n",
       "  </tbody>\n",
       "</table>\n",
       "</div>"
      ],
      "text/plain": [
       "    aid  advertiserId  campaignId  creativeId  creativeSize  adCategoryId  \\\n",
       "0   177          8203       76104     1500666            59           282   \n",
       "1  2050         19441      178687      245165            53             1   \n",
       "2  1716          5552      158101     1080850            35            27   \n",
       "3   336           370        4833      119845            22            67   \n",
       "4   671         45705      352827      660519            42            67   \n",
       "\n",
       "   productId  productType  \n",
       "0          0            6  \n",
       "1          0            6  \n",
       "2        113            9  \n",
       "3        113            9  \n",
       "4          0            4  "
      ]
     },
     "execution_count": 107,
     "metadata": {},
     "output_type": "execute_result"
    }
   ],
   "source": [
    "df_ad_feature.head()"
   ]
  },
  {
   "cell_type": "code",
   "execution_count": 108,
   "metadata": {
    "ExecuteTime": {
     "end_time": "2021-03-26T06:25:24.303301Z",
     "start_time": "2021-03-26T06:25:24.268669Z"
    }
   },
   "outputs": [
    {
     "data": {
      "text/plain": [
       "Index(['aid', 'uid', 'label'], dtype='object')"
      ]
     },
     "execution_count": 108,
     "metadata": {},
     "output_type": "execute_result"
    }
   ],
   "source": [
    "df_train.columns"
   ]
  },
  {
   "cell_type": "code",
   "execution_count": 109,
   "metadata": {
    "ExecuteTime": {
     "end_time": "2021-03-26T06:25:24.726470Z",
     "start_time": "2021-03-26T06:25:24.304821Z"
    }
   },
   "outputs": [
    {
     "data": {
      "text/plain": [
       "0    8376853\n",
       "1     421961\n",
       "Name: label, dtype: int64"
      ]
     },
     "execution_count": 109,
     "metadata": {},
     "output_type": "execute_result"
    }
   ],
   "source": [
    "df_train.label.value_counts()"
   ]
  },
  {
   "cell_type": "code",
   "execution_count": 110,
   "metadata": {
    "ExecuteTime": {
     "end_time": "2021-03-26T06:25:25.656516Z",
     "start_time": "2021-03-26T06:25:24.728102Z"
    }
   },
   "outputs": [
    {
     "data": {
      "text/plain": [
       "1    2265989\n",
       "2    2265879\n",
       "Name: test, dtype: int64"
      ]
     },
     "execution_count": 110,
     "metadata": {},
     "output_type": "execute_result"
    }
   ],
   "source": [
    "# 插入test字段，0代表训练集，1代表测试集1，2代表测试集2\n",
    "df_test1['test'] = 1\n",
    "df_test2['test'] = 2\n",
    "\n",
    "# 合并两组测试集合\n",
    "df_test = pd.concat([df_test1, df_test2], axis=0, ignore_index=True)\n",
    "df_test['label'] = -1\n",
    "\n",
    "df_test.test.value_counts()"
   ]
  },
  {
   "cell_type": "code",
   "execution_count": 111,
   "metadata": {
    "ExecuteTime": {
     "end_time": "2021-03-26T06:25:26.430546Z",
     "start_time": "2021-03-26T06:25:25.658589Z"
    }
   },
   "outputs": [
    {
     "data": {
      "text/plain": [
       " 0    8376853\n",
       "-1    4531868\n",
       " 1     421961\n",
       "Name: label, dtype: int64"
      ]
     },
     "execution_count": 111,
     "metadata": {},
     "output_type": "execute_result"
    }
   ],
   "source": [
    "# 合并测试集和训练集\n",
    "df_train_test = pd.concat([df_train, df_test], axis=0, ignore_index=True)\n",
    "# 训练集的test列为0\n",
    "df_train_test['test'].fillna(0, inplace=True)\n",
    "\n",
    "df_train_test.label.value_counts()\n"
   ]
  },
  {
   "cell_type": "markdown",
   "metadata": {},
   "source": [
    "## 关联特征数据"
   ]
  },
  {
   "cell_type": "code",
   "execution_count": 112,
   "metadata": {
    "ExecuteTime": {
     "end_time": "2021-03-26T06:28:48.362389Z",
     "start_time": "2021-03-26T06:25:56.292931Z"
    }
   },
   "outputs": [],
   "source": [
    "# 关联用户特征\n",
    "df_data = pd.merge(df_train_test, df_user_feature, on=['uid'], how='left')\n",
    "# 关联广告特征\n",
    "df_data = pd.merge(df_data, df_ad_feature, on=['aid'], how='left')"
   ]
  },
  {
   "cell_type": "code",
   "execution_count": 113,
   "metadata": {
    "ExecuteTime": {
     "end_time": "2021-03-26T06:36:33.308263Z",
     "start_time": "2021-03-26T06:35:35.490772Z"
    }
   },
   "outputs": [
    {
     "data": {
      "text/plain": [
       "aid                          0\n",
       "uid                          0\n",
       "label                        0\n",
       "test                         0\n",
       "LBS                         88\n",
       "age                          0\n",
       "appIdAction           13128798\n",
       "appIdInstall          13060063\n",
       "carrier                      0\n",
       "consumptionAbility           0\n",
       "ct                           0\n",
       "education                    0\n",
       "gender                       0\n",
       "house                 10917477\n",
       "interest1              1209907\n",
       "interest2              4488018\n",
       "interest3             12977810\n",
       "interest4             13128456\n",
       "interest5              3349838\n",
       "kw1                    1337508\n",
       "kw2                     452732\n",
       "kw3                   12719761\n",
       "marriageStatus               1\n",
       "os                           0\n",
       "topic1                 1136438\n",
       "topic2                  479002\n",
       "topic3                12718078\n",
       "advertiserId                 0\n",
       "campaignId                   0\n",
       "creativeId                   0\n",
       "creativeSize                 0\n",
       "adCategoryId                 0\n",
       "productId                    0\n",
       "productType                  0\n",
       "dtype: int64"
      ]
     },
     "execution_count": 113,
     "metadata": {},
     "output_type": "execute_result"
    }
   ],
   "source": [
    "df_data.isna().sum()"
   ]
  },
  {
   "cell_type": "code",
   "execution_count": 114,
   "metadata": {
    "ExecuteTime": {
     "end_time": "2021-03-26T06:50:10.201420Z",
     "start_time": "2021-03-26T06:49:46.645978Z"
    }
   },
   "outputs": [],
   "source": [
    "df_data.fillna(-1, inplace=True)\n",
    "# df_data = pd.DataFrame(df_data.values, columns=df_data.columns)\n",
    "df_data['label'] = df_data['label'].astype(float)  # 0&1: train; -1: test\n"
   ]
  },
  {
   "cell_type": "code",
   "execution_count": 115,
   "metadata": {
    "ExecuteTime": {
     "end_time": "2021-03-26T06:54:36.791911Z",
     "start_time": "2021-03-26T06:50:31.252983Z"
    }
   },
   "outputs": [],
   "source": [
    "df_data.to_csv('data/preprocess/df_train_test_merge.csv', index=False)"
   ]
  },
  {
   "cell_type": "code",
   "execution_count": null,
   "metadata": {},
   "outputs": [],
   "source": []
  },
  {
   "cell_type": "markdown",
   "metadata": {},
   "source": [
    "# 数据探索"
   ]
  },
  {
   "cell_type": "code",
   "execution_count": 116,
   "metadata": {
    "ExecuteTime": {
     "end_time": "2021-03-26T06:57:59.467290Z",
     "start_time": "2021-03-26T06:57:53.263465Z"
    }
   },
   "outputs": [
    {
     "data": {
      "text/html": [
       "<div>\n",
       "<style scoped>\n",
       "    .dataframe tbody tr th:only-of-type {\n",
       "        vertical-align: middle;\n",
       "    }\n",
       "\n",
       "    .dataframe tbody tr th {\n",
       "        vertical-align: top;\n",
       "    }\n",
       "\n",
       "    .dataframe thead th {\n",
       "        text-align: right;\n",
       "    }\n",
       "</style>\n",
       "<table border=\"1\" class=\"dataframe\">\n",
       "  <thead>\n",
       "    <tr style=\"text-align: right;\">\n",
       "      <th></th>\n",
       "      <th>aid</th>\n",
       "      <th>uid</th>\n",
       "      <th>label</th>\n",
       "      <th>test</th>\n",
       "      <th>LBS</th>\n",
       "      <th>age</th>\n",
       "      <th>appIdAction</th>\n",
       "      <th>appIdInstall</th>\n",
       "      <th>carrier</th>\n",
       "      <th>consumptionAbility</th>\n",
       "      <th>...</th>\n",
       "      <th>topic1</th>\n",
       "      <th>topic2</th>\n",
       "      <th>topic3</th>\n",
       "      <th>advertiserId</th>\n",
       "      <th>campaignId</th>\n",
       "      <th>creativeId</th>\n",
       "      <th>creativeSize</th>\n",
       "      <th>adCategoryId</th>\n",
       "      <th>productId</th>\n",
       "      <th>productType</th>\n",
       "    </tr>\n",
       "  </thead>\n",
       "  <tbody>\n",
       "    <tr>\n",
       "      <th>0</th>\n",
       "      <td>699</td>\n",
       "      <td>78508957</td>\n",
       "      <td>0.0</td>\n",
       "      <td>0.0</td>\n",
       "      <td>576.0</td>\n",
       "      <td>1</td>\n",
       "      <td>-1</td>\n",
       "      <td>-1</td>\n",
       "      <td>0</td>\n",
       "      <td>1</td>\n",
       "      <td>...</td>\n",
       "      <td>4908 9745 7070 4203 3292</td>\n",
       "      <td>-1</td>\n",
       "      <td>-1</td>\n",
       "      <td>1082</td>\n",
       "      <td>295940</td>\n",
       "      <td>731679</td>\n",
       "      <td>59</td>\n",
       "      <td>13</td>\n",
       "      <td>0</td>\n",
       "      <td>6</td>\n",
       "    </tr>\n",
       "    <tr>\n",
       "      <th>1</th>\n",
       "      <td>1991</td>\n",
       "      <td>3637295</td>\n",
       "      <td>0.0</td>\n",
       "      <td>0.0</td>\n",
       "      <td>353.0</td>\n",
       "      <td>3</td>\n",
       "      <td>-1</td>\n",
       "      <td>-1</td>\n",
       "      <td>1</td>\n",
       "      <td>0</td>\n",
       "      <td>...</td>\n",
       "      <td>8445 6762 7608 523 7688</td>\n",
       "      <td>4518 862 3643 702 5247</td>\n",
       "      <td>-1</td>\n",
       "      <td>702</td>\n",
       "      <td>42104</td>\n",
       "      <td>1441131</td>\n",
       "      <td>53</td>\n",
       "      <td>10</td>\n",
       "      <td>4669</td>\n",
       "      <td>11</td>\n",
       "    </tr>\n",
       "    <tr>\n",
       "      <th>2</th>\n",
       "      <td>1119</td>\n",
       "      <td>19229018</td>\n",
       "      <td>0.0</td>\n",
       "      <td>0.0</td>\n",
       "      <td>94.0</td>\n",
       "      <td>4</td>\n",
       "      <td>-1</td>\n",
       "      <td>-1</td>\n",
       "      <td>0</td>\n",
       "      <td>0</td>\n",
       "      <td>...</td>\n",
       "      <td>941 4674 9735 8953 5352</td>\n",
       "      <td>-1</td>\n",
       "      <td>-1</td>\n",
       "      <td>3993</td>\n",
       "      <td>63752</td>\n",
       "      <td>798752</td>\n",
       "      <td>59</td>\n",
       "      <td>10</td>\n",
       "      <td>19256</td>\n",
       "      <td>11</td>\n",
       "    </tr>\n",
       "    <tr>\n",
       "      <th>3</th>\n",
       "      <td>2013</td>\n",
       "      <td>79277120</td>\n",
       "      <td>0.0</td>\n",
       "      <td>0.0</td>\n",
       "      <td>48.0</td>\n",
       "      <td>2</td>\n",
       "      <td>-1</td>\n",
       "      <td>-1</td>\n",
       "      <td>1</td>\n",
       "      <td>1</td>\n",
       "      <td>...</td>\n",
       "      <td>4538 6790 8850 3422 1940</td>\n",
       "      <td>2979 1877 358 666 4166</td>\n",
       "      <td>-1</td>\n",
       "      <td>6937</td>\n",
       "      <td>186348</td>\n",
       "      <td>1427984</td>\n",
       "      <td>35</td>\n",
       "      <td>89</td>\n",
       "      <td>3791</td>\n",
       "      <td>9</td>\n",
       "    </tr>\n",
       "    <tr>\n",
       "      <th>4</th>\n",
       "      <td>692</td>\n",
       "      <td>41528441</td>\n",
       "      <td>0.0</td>\n",
       "      <td>0.0</td>\n",
       "      <td>333.0</td>\n",
       "      <td>1</td>\n",
       "      <td>-1</td>\n",
       "      <td>-1</td>\n",
       "      <td>1</td>\n",
       "      <td>1</td>\n",
       "      <td>...</td>\n",
       "      <td>4535 5590 47 5570 2078</td>\n",
       "      <td>856 4587 1877 392 9103</td>\n",
       "      <td>-1</td>\n",
       "      <td>6946</td>\n",
       "      <td>296367</td>\n",
       "      <td>455396</td>\n",
       "      <td>59</td>\n",
       "      <td>24</td>\n",
       "      <td>3794</td>\n",
       "      <td>11</td>\n",
       "    </tr>\n",
       "  </tbody>\n",
       "</table>\n",
       "<p>5 rows × 34 columns</p>\n",
       "</div>"
      ],
      "text/plain": [
       "    aid       uid  label  test    LBS  age appIdAction appIdInstall  carrier  \\\n",
       "0   699  78508957    0.0   0.0  576.0    1          -1           -1        0   \n",
       "1  1991   3637295    0.0   0.0  353.0    3          -1           -1        1   \n",
       "2  1119  19229018    0.0   0.0   94.0    4          -1           -1        0   \n",
       "3  2013  79277120    0.0   0.0   48.0    2          -1           -1        1   \n",
       "4   692  41528441    0.0   0.0  333.0    1          -1           -1        1   \n",
       "\n",
       "   consumptionAbility  ...                    topic1                  topic2  \\\n",
       "0                   1  ...  4908 9745 7070 4203 3292                      -1   \n",
       "1                   0  ...   8445 6762 7608 523 7688  4518 862 3643 702 5247   \n",
       "2                   0  ...   941 4674 9735 8953 5352                      -1   \n",
       "3                   1  ...  4538 6790 8850 3422 1940  2979 1877 358 666 4166   \n",
       "4                   1  ...    4535 5590 47 5570 2078  856 4587 1877 392 9103   \n",
       "\n",
       "   topic3  advertiserId campaignId creativeId creativeSize adCategoryId  \\\n",
       "0      -1          1082     295940     731679           59           13   \n",
       "1      -1           702      42104    1441131           53           10   \n",
       "2      -1          3993      63752     798752           59           10   \n",
       "3      -1          6937     186348    1427984           35           89   \n",
       "4      -1          6946     296367     455396           59           24   \n",
       "\n",
       "  productId productType  \n",
       "0         0           6  \n",
       "1      4669          11  \n",
       "2     19256          11  \n",
       "3      3791           9  \n",
       "4      3794          11  \n",
       "\n",
       "[5 rows x 34 columns]"
      ]
     },
     "execution_count": 116,
     "metadata": {},
     "output_type": "execute_result"
    }
   ],
   "source": [
    "df_data.head()"
   ]
  },
  {
   "cell_type": "markdown",
   "metadata": {},
   "source": [
    "## 正负样本比例"
   ]
  },
  {
   "cell_type": "code",
   "execution_count": 117,
   "metadata": {
    "ExecuteTime": {
     "end_time": "2021-03-26T07:04:26.125220Z",
     "start_time": "2021-03-26T07:04:25.899624Z"
    }
   },
   "outputs": [
    {
     "data": {
      "text/plain": [
       " 0.0    8376853\n",
       "-1.0    4531868\n",
       " 1.0     421961\n",
       "Name: label, dtype: int64"
      ]
     },
     "execution_count": 117,
     "metadata": {},
     "output_type": "execute_result"
    }
   ],
   "source": [
    "df_data.label.value_counts()\n",
    "# pos 421961 / neg 8376853"
   ]
  },
  {
   "cell_type": "markdown",
   "metadata": {},
   "source": [
    "## 特征insight"
   ]
  },
  {
   "cell_type": "code",
   "execution_count": 118,
   "metadata": {
    "ExecuteTime": {
     "end_time": "2021-03-26T07:23:42.595223Z",
     "start_time": "2021-03-26T07:23:42.591144Z"
    }
   },
   "outputs": [
    {
     "data": {
      "text/plain": [
       "Index(['aid', 'uid', 'label', 'test', 'LBS', 'age', 'appIdAction',\n",
       "       'appIdInstall', 'carrier', 'consumptionAbility', 'ct', 'education',\n",
       "       'gender', 'house', 'interest1', 'interest2', 'interest3', 'interest4',\n",
       "       'interest5', 'kw1', 'kw2', 'kw3', 'marriageStatus', 'os', 'topic1',\n",
       "       'topic2', 'topic3', 'advertiserId', 'campaignId', 'creativeId',\n",
       "       'creativeSize', 'adCategoryId', 'productId', 'productType'],\n",
       "      dtype='object')"
      ]
     },
     "execution_count": 118,
     "metadata": {},
     "output_type": "execute_result"
    }
   ],
   "source": [
    "df_data.columns"
   ]
  },
  {
   "cell_type": "markdown",
   "metadata": {},
   "source": [
    "### aid\n",
    "含义：广告id"
   ]
  },
  {
   "cell_type": "code",
   "execution_count": 120,
   "metadata": {
    "ExecuteTime": {
     "end_time": "2021-03-26T07:27:38.827378Z",
     "start_time": "2021-03-26T07:27:38.752501Z"
    }
   },
   "outputs": [
    {
     "data": {
      "text/plain": [
       "173"
      ]
     },
     "execution_count": 120,
     "metadata": {},
     "output_type": "execute_result"
    }
   ],
   "source": [
    "df_data.aid.nunique()"
   ]
  },
  {
   "cell_type": "markdown",
   "metadata": {},
   "source": [
    "\n",
    "### uid\n",
    "- 含义：用户id\n",
    "\n",
    "\n",
    "### label\n",
    "- 含义：正负样本标记 train_pos 1 / train_neg 0 / test -1\n",
    "\n",
    "\n",
    "### test\n",
    "- 含义：测试数据集合标记，1表示测试集1，2表示测试集2\n",
    "\n",
    "### LBS\n",
    "- 含义：Location Based Services，相当于一个用户位置的分类\n"
   ]
  },
  {
   "cell_type": "code",
   "execution_count": 125,
   "metadata": {
    "ExecuteTime": {
     "end_time": "2021-03-26T08:13:41.867516Z",
     "start_time": "2021-03-26T08:13:41.622234Z"
    }
   },
   "outputs": [
    {
     "data": {
      "text/plain": [
       "864"
      ]
     },
     "execution_count": 125,
     "metadata": {},
     "output_type": "execute_result"
    }
   ],
   "source": [
    "df_data.LBS.nunique()  # Location Based Services"
   ]
  },
  {
   "cell_type": "markdown",
   "metadata": {},
   "source": [
    "### age\n",
    "- 含义：年龄\n",
    "- 已经是分类了，无缺失值"
   ]
  },
  {
   "cell_type": "code",
   "execution_count": 127,
   "metadata": {
    "ExecuteTime": {
     "end_time": "2021-03-26T08:14:30.474657Z",
     "start_time": "2021-03-26T08:14:30.402059Z"
    }
   },
   "outputs": [
    {
     "data": {
      "text/plain": [
       "array([1, 3, 4, 2, 5, 0])"
      ]
     },
     "execution_count": 127,
     "metadata": {},
     "output_type": "execute_result"
    }
   ],
   "source": [
    "df_data.age.unique()"
   ]
  },
  {
   "cell_type": "markdown",
   "metadata": {},
   "source": [
    "### appIdAction\n",
    "- 含义：\n",
    "- 序列特征，string形式，各元素用空格分隔，缺失值用-1表示"
   ]
  },
  {
   "cell_type": "code",
   "execution_count": 128,
   "metadata": {
    "ExecuteTime": {
     "end_time": "2021-03-26T08:15:31.296245Z",
     "start_time": "2021-03-26T08:15:30.949319Z"
    }
   },
   "outputs": [
    {
     "data": {
      "text/plain": [
       "array([-1, '2183 4807 2911', '3269 562 4041 4973 1088 5266', ...,\n",
       "       '1559 5606 27 1266 2283 5531 725 1968 2964 4106 2892 2755',\n",
       "       '3287 4058 562 2168',\n",
       "       '517 3292 2482 1584 4572 3269 872 4324 4114 3457 5983 2192'],\n",
       "      dtype=object)"
      ]
     },
     "execution_count": 128,
     "metadata": {},
     "output_type": "execute_result"
    }
   ],
   "source": [
    "df_data.appIdAction.unique()"
   ]
  },
  {
   "cell_type": "markdown",
   "metadata": {},
   "source": [
    "### appIdInstall\n",
    "- 含义：\n",
    "- 序列特征，string形式，各元素用空格分隔，缺失值用-1表示"
   ]
  },
  {
   "cell_type": "code",
   "execution_count": 130,
   "metadata": {
    "ExecuteTime": {
     "end_time": "2021-03-26T08:25:01.557331Z",
     "start_time": "2021-03-26T08:25:01.251703Z"
    }
   },
   "outputs": [
    {
     "data": {
      "text/plain": [
       "array([-1, '2183 4807 2911', '3269 562 4041 4973 1088 5266'], dtype=object)"
      ]
     },
     "execution_count": 130,
     "metadata": {},
     "output_type": "execute_result"
    }
   ],
   "source": [
    "df_data.appIdAction.unique()[:3]"
   ]
  },
  {
   "cell_type": "markdown",
   "metadata": {},
   "source": [
    "### carrier\n",
    "- 含义：运营商\n",
    "- 离散特征，无缺失情况"
   ]
  },
  {
   "cell_type": "code",
   "execution_count": 133,
   "metadata": {
    "ExecuteTime": {
     "end_time": "2021-03-26T08:28:32.342601Z",
     "start_time": "2021-03-26T08:28:32.269461Z"
    }
   },
   "outputs": [
    {
     "data": {
      "text/plain": [
       "array([0, 1, 3, 2])"
      ]
     },
     "execution_count": 133,
     "metadata": {},
     "output_type": "execute_result"
    }
   ],
   "source": [
    "df_data.carrier.unique()"
   ]
  },
  {
   "cell_type": "markdown",
   "metadata": {},
   "source": [
    "### consumptionAbility\n",
    "- 含义：消费能力等级\n",
    "- 离散特征，无缺失值"
   ]
  },
  {
   "cell_type": "code",
   "execution_count": 134,
   "metadata": {
    "ExecuteTime": {
     "end_time": "2021-03-26T08:30:23.656281Z",
     "start_time": "2021-03-26T08:30:23.580087Z"
    }
   },
   "outputs": [
    {
     "data": {
      "text/plain": [
       "array([1, 0, 2])"
      ]
     },
     "execution_count": 134,
     "metadata": {},
     "output_type": "execute_result"
    }
   ],
   "source": [
    "df_data.consumptionAbility.unique()"
   ]
  },
  {
   "cell_type": "markdown",
   "metadata": {},
   "source": [
    "### ct\n",
    "- 含义：\n",
    "- 序列特征，无缺失值，各元素用空格分隔，缺失值用-1表示"
   ]
  },
  {
   "cell_type": "code",
   "execution_count": 135,
   "metadata": {
    "ExecuteTime": {
     "end_time": "2021-03-26T08:30:59.259535Z",
     "start_time": "2021-03-26T08:30:58.443784Z"
    }
   },
   "outputs": [
    {
     "data": {
      "text/plain": [
       "array(['0', '3', '3 1', '1 3 4', '4 1 3', '3 1 2', '1 3', '3 4 1 2',\n",
       "       '3 2 4 1', '3 1 4', '3 4 1', '1 4 3', '1', '1 3 2 4', '3 1 4 2',\n",
       "       '1 3 2', '3 2 4', '2 3 1', '4 3 1', '3 4', '3 2 1 4', '2 1 3',\n",
       "       '3 2', '3 4 2', '3 2 1', '1 2 3', '1 3 4 2', '1 4 3 2', '1 2 3 4',\n",
       "       '4', '2 3 1 4', '3 1 2 4', '1 2', '2 3', '1 4', '1 4 2 3', '4 3',\n",
       "       '1 2 4 3', '2 4 1 3', '2 1 3 4', '4 1 3 2', '4 3 2', '4 3 1 2',\n",
       "       '4 1', '4 2 3 1', '2', '4 1 2 3', '2 4 3 1', '2 4 3', '2 3 4',\n",
       "       '3 4 2 1', '2 4', '2 3 4 1', '2 1', '4 2 1 3', '2 1 4 3', '4 2 3',\n",
       "       '1 4 2', '1 2 4', '4 2 1', '4 3 2 1', '4 1 2', '2 4 1', '4 2',\n",
       "       '2 1 4'], dtype=object)"
      ]
     },
     "execution_count": 135,
     "metadata": {},
     "output_type": "execute_result"
    }
   ],
   "source": [
    "df_data.ct.unique()"
   ]
  },
  {
   "cell_type": "code",
   "execution_count": null,
   "metadata": {},
   "outputs": [],
   "source": [
    "'education',\n",
    "'gender', 'house', 'interest1', 'interest2', 'interest3', 'interest4',\n",
    "'interest5', 'kw1', 'kw2', 'kw3', 'marriageStatus', 'os', 'topic1',\n",
    "'topic2', 'topic3', 'advertiserId', 'campaignId', 'creativeId',\n",
    "'creativeSize', 'adCategoryId', 'productId', 'productType'"
   ]
  },
  {
   "cell_type": "markdown",
   "metadata": {},
   "source": [
    "### education\n",
    "- 含义：受教育等级\n",
    "- 离散特征，无缺失值，"
   ]
  },
  {
   "cell_type": "code",
   "execution_count": 136,
   "metadata": {
    "ExecuteTime": {
     "end_time": "2021-03-26T08:33:31.034578Z",
     "start_time": "2021-03-26T08:33:30.953524Z"
    }
   },
   "outputs": [
    {
     "data": {
      "text/plain": [
       "array([1, 7, 2, 6, 5, 0, 3, 4])"
      ]
     },
     "execution_count": 136,
     "metadata": {},
     "output_type": "execute_result"
    }
   ],
   "source": [
    "df_data.education.unique()"
   ]
  },
  {
   "cell_type": "code",
   "execution_count": null,
   "metadata": {},
   "outputs": [],
   "source": []
  },
  {
   "cell_type": "code",
   "execution_count": null,
   "metadata": {},
   "outputs": [],
   "source": []
  },
  {
   "cell_type": "code",
   "execution_count": null,
   "metadata": {},
   "outputs": [],
   "source": []
  },
  {
   "cell_type": "code",
   "execution_count": null,
   "metadata": {},
   "outputs": [],
   "source": []
  },
  {
   "cell_type": "code",
   "execution_count": null,
   "metadata": {},
   "outputs": [],
   "source": []
  },
  {
   "cell_type": "code",
   "execution_count": null,
   "metadata": {},
   "outputs": [],
   "source": []
  },
  {
   "cell_type": "code",
   "execution_count": null,
   "metadata": {},
   "outputs": [],
   "source": []
  },
  {
   "cell_type": "code",
   "execution_count": null,
   "metadata": {},
   "outputs": [],
   "source": []
  },
  {
   "cell_type": "code",
   "execution_count": null,
   "metadata": {},
   "outputs": [],
   "source": []
  },
  {
   "cell_type": "code",
   "execution_count": null,
   "metadata": {},
   "outputs": [],
   "source": []
  },
  {
   "cell_type": "code",
   "execution_count": null,
   "metadata": {},
   "outputs": [],
   "source": []
  },
  {
   "cell_type": "code",
   "execution_count": 82,
   "metadata": {
    "ExecuteTime": {
     "end_time": "2021-03-25T09:26:11.712494Z",
     "start_time": "2021-03-25T09:25:31.248586Z"
    }
   },
   "outputs": [],
   "source": [
    "user_feature_lst = []\n",
    "ad_feature_lst = []\n",
    "train_lst = []\n",
    "test_lst = []\n",
    "\n",
    "train = df_data[df_data['test'] == 0][['aid','label']]  # 训练集的test列为0\n",
    "test1_index = df_data[df_data['test'] == 1].index  # 测试集1\n",
    "test2_index = df_data[df_data['test'] == 2].index  # 测试集2"
   ]
  },
  {
   "cell_type": "code",
   "execution_count": 83,
   "metadata": {
    "ExecuteTime": {
     "end_time": "2021-03-25T09:26:13.947119Z",
     "start_time": "2021-03-25T09:26:11.714462Z"
    }
   },
   "outputs": [],
   "source": [
    "# 插入字段n_parts数据集进行分块，训练集分成五块1、2、3、4、5，测试集1为6、测试集2为7\n",
    "# 也就是test字段与n_parts字段都是为了区分数据块，n_parts对训练集进行了分块\n",
    "n_parts = 5\n",
    "index = []\n",
    "for i in range(n_parts):\n",
    "    index.append([])  # 标记5块idx\n",
    "aid_lst = list(df_train['aid'].unique())[:1]\n",
    "\n",
    "for aid in aid_lst:\n",
    "    ad_piece = train[train['aid'] == aid]\n",
    "    for k in [0, 1]:  # 0&1: train\n",
    "        # 记录训练集中各个广告的正负样本idx\n",
    "        idx_lst = list(ad_piece[ad_piece['label'] == k].sample(frac=1, random_state=10).index)\n",
    "        cut = [0]\n",
    "        \n",
    "        # Wt's this???????\n",
    "        for i in range(n_parts):\n",
    "            cut.append(int((i + 1) * len(idx_lst) / n_parts) + 1)\n",
    "        for j in range(n_parts):\n",
    "            index[j].extend(idx_lst[cut[j]: cut[j+1]])"
   ]
  },
  {
   "cell_type": "code",
   "execution_count": 86,
   "metadata": {
    "ExecuteTime": {
     "end_time": "2021-03-25T09:27:13.373973Z",
     "start_time": "2021-03-25T09:27:02.734565Z"
    }
   },
   "outputs": [
    {
     "name": "stderr",
     "output_type": "stream",
     "text": [
      "/usr/local/lib/python3.6/dist-packages/ipykernel_launcher.py:1: DeprecationWarning: The default dtype for empty Series will be 'object' instead of 'float64' in a future version. Specify a dtype explicitly to silence this warning.\n",
      "  \"\"\"Entry point for launching an IPython kernel.\n"
     ]
    },
    {
     "data": {
      "text/html": [
       "<div>\n",
       "<style scoped>\n",
       "    .dataframe tbody tr th:only-of-type {\n",
       "        vertical-align: middle;\n",
       "    }\n",
       "\n",
       "    .dataframe tbody tr th {\n",
       "        vertical-align: top;\n",
       "    }\n",
       "\n",
       "    .dataframe thead th {\n",
       "        text-align: right;\n",
       "    }\n",
       "</style>\n",
       "<table border=\"1\" class=\"dataframe\">\n",
       "  <thead>\n",
       "    <tr style=\"text-align: right;\">\n",
       "      <th></th>\n",
       "      <th>n_parts</th>\n",
       "      <th>aid</th>\n",
       "      <th>uid</th>\n",
       "      <th>label</th>\n",
       "      <th>test</th>\n",
       "      <th>LBS</th>\n",
       "      <th>age</th>\n",
       "      <th>appIdAction</th>\n",
       "      <th>appIdInstall</th>\n",
       "      <th>carrier</th>\n",
       "      <th>...</th>\n",
       "      <th>topic1</th>\n",
       "      <th>topic2</th>\n",
       "      <th>topic3</th>\n",
       "      <th>advertiserId</th>\n",
       "      <th>campaignId</th>\n",
       "      <th>creativeId</th>\n",
       "      <th>creativeSize</th>\n",
       "      <th>adCategoryId</th>\n",
       "      <th>productId</th>\n",
       "      <th>productType</th>\n",
       "    </tr>\n",
       "  </thead>\n",
       "  <tbody>\n",
       "    <tr>\n",
       "      <th>0</th>\n",
       "      <td>1.0</td>\n",
       "      <td>699</td>\n",
       "      <td>78508957</td>\n",
       "      <td>0.0</td>\n",
       "      <td>0</td>\n",
       "      <td>576</td>\n",
       "      <td>1</td>\n",
       "      <td>-1</td>\n",
       "      <td>-1</td>\n",
       "      <td>0</td>\n",
       "      <td>...</td>\n",
       "      <td>4908 9745 7070 4203 3292</td>\n",
       "      <td>-1</td>\n",
       "      <td>-1</td>\n",
       "      <td>1082</td>\n",
       "      <td>295940</td>\n",
       "      <td>731679</td>\n",
       "      <td>59</td>\n",
       "      <td>13</td>\n",
       "      <td>0</td>\n",
       "      <td>6</td>\n",
       "    </tr>\n",
       "    <tr>\n",
       "      <th>1</th>\n",
       "      <td>NaN</td>\n",
       "      <td>1991</td>\n",
       "      <td>3637295</td>\n",
       "      <td>0.0</td>\n",
       "      <td>0</td>\n",
       "      <td>353</td>\n",
       "      <td>3</td>\n",
       "      <td>-1</td>\n",
       "      <td>-1</td>\n",
       "      <td>1</td>\n",
       "      <td>...</td>\n",
       "      <td>8445 6762 7608 523 7688</td>\n",
       "      <td>4518 862 3643 702 5247</td>\n",
       "      <td>-1</td>\n",
       "      <td>702</td>\n",
       "      <td>42104</td>\n",
       "      <td>1441131</td>\n",
       "      <td>53</td>\n",
       "      <td>10</td>\n",
       "      <td>4669</td>\n",
       "      <td>11</td>\n",
       "    </tr>\n",
       "    <tr>\n",
       "      <th>2</th>\n",
       "      <td>NaN</td>\n",
       "      <td>1119</td>\n",
       "      <td>19229018</td>\n",
       "      <td>0.0</td>\n",
       "      <td>0</td>\n",
       "      <td>94</td>\n",
       "      <td>4</td>\n",
       "      <td>-1</td>\n",
       "      <td>-1</td>\n",
       "      <td>0</td>\n",
       "      <td>...</td>\n",
       "      <td>941 4674 9735 8953 5352</td>\n",
       "      <td>-1</td>\n",
       "      <td>-1</td>\n",
       "      <td>3993</td>\n",
       "      <td>63752</td>\n",
       "      <td>798752</td>\n",
       "      <td>59</td>\n",
       "      <td>10</td>\n",
       "      <td>19256</td>\n",
       "      <td>11</td>\n",
       "    </tr>\n",
       "    <tr>\n",
       "      <th>3</th>\n",
       "      <td>NaN</td>\n",
       "      <td>2013</td>\n",
       "      <td>79277120</td>\n",
       "      <td>0.0</td>\n",
       "      <td>0</td>\n",
       "      <td>48</td>\n",
       "      <td>2</td>\n",
       "      <td>-1</td>\n",
       "      <td>-1</td>\n",
       "      <td>1</td>\n",
       "      <td>...</td>\n",
       "      <td>4538 6790 8850 3422 1940</td>\n",
       "      <td>2979 1877 358 666 4166</td>\n",
       "      <td>-1</td>\n",
       "      <td>6937</td>\n",
       "      <td>186348</td>\n",
       "      <td>1427984</td>\n",
       "      <td>35</td>\n",
       "      <td>89</td>\n",
       "      <td>3791</td>\n",
       "      <td>9</td>\n",
       "    </tr>\n",
       "    <tr>\n",
       "      <th>4</th>\n",
       "      <td>NaN</td>\n",
       "      <td>692</td>\n",
       "      <td>41528441</td>\n",
       "      <td>0.0</td>\n",
       "      <td>0</td>\n",
       "      <td>333</td>\n",
       "      <td>1</td>\n",
       "      <td>-1</td>\n",
       "      <td>-1</td>\n",
       "      <td>1</td>\n",
       "      <td>...</td>\n",
       "      <td>4535 5590 47 5570 2078</td>\n",
       "      <td>856 4587 1877 392 9103</td>\n",
       "      <td>-1</td>\n",
       "      <td>6946</td>\n",
       "      <td>296367</td>\n",
       "      <td>455396</td>\n",
       "      <td>59</td>\n",
       "      <td>24</td>\n",
       "      <td>3794</td>\n",
       "      <td>11</td>\n",
       "    </tr>\n",
       "  </tbody>\n",
       "</table>\n",
       "<p>5 rows × 35 columns</p>\n",
       "</div>"
      ],
      "text/plain": [
       "   n_parts   aid       uid  label test  LBS age appIdAction appIdInstall  \\\n",
       "0      1.0   699  78508957    0.0    0  576   1          -1           -1   \n",
       "1      NaN  1991   3637295    0.0    0  353   3          -1           -1   \n",
       "2      NaN  1119  19229018    0.0    0   94   4          -1           -1   \n",
       "3      NaN  2013  79277120    0.0    0   48   2          -1           -1   \n",
       "4      NaN   692  41528441    0.0    0  333   1          -1           -1   \n",
       "\n",
       "  carrier  ...                    topic1                  topic2 topic3  \\\n",
       "0       0  ...  4908 9745 7070 4203 3292                      -1     -1   \n",
       "1       1  ...   8445 6762 7608 523 7688  4518 862 3643 702 5247     -1   \n",
       "2       0  ...   941 4674 9735 8953 5352                      -1     -1   \n",
       "3       1  ...  4538 6790 8850 3422 1940  2979 1877 358 666 4166     -1   \n",
       "4       1  ...    4535 5590 47 5570 2078  856 4587 1877 392 9103     -1   \n",
       "\n",
       "  advertiserId campaignId creativeId creativeSize adCategoryId productId  \\\n",
       "0         1082     295940     731679           59           13         0   \n",
       "1          702      42104    1441131           53           10      4669   \n",
       "2         3993      63752     798752           59           10     19256   \n",
       "3         6937     186348    1427984           35           89      3791   \n",
       "4         6946     296367     455396           59           24      3794   \n",
       "\n",
       "  productType  \n",
       "0           6  \n",
       "1          11  \n",
       "2          11  \n",
       "3           9  \n",
       "4          11  \n",
       "\n",
       "[5 rows x 35 columns]"
      ]
     },
     "execution_count": 86,
     "metadata": {},
     "output_type": "execute_result"
    }
   ],
   "source": [
    "se = pd.Series()\n",
    "for n in range(n_parts):\n",
    "    se = se.append(pd.Series(n + 1, index=index[n]))\n",
    "se = se.append(pd.Series(6, index=test1_index)) \n",
    "se = se.append(pd.Series(7, index=test2_index))\n",
    "\n",
    "df_data.insert(0, 'n_parts', list(pd.Series(df_data.index).map(se).values))\n",
    "df_data.head()"
   ]
  },
  {
   "cell_type": "code",
   "execution_count": 87,
   "metadata": {
    "ExecuteTime": {
     "end_time": "2021-03-25T09:27:28.908429Z",
     "start_time": "2021-03-25T09:27:28.059936Z"
    }
   },
   "outputs": [
    {
     "data": {
      "text/plain": [
       "6.0    2265989\n",
       "7.0    2265879\n",
       "1.0       9366\n",
       "4.0       9364\n",
       "3.0       9364\n",
       "2.0       9364\n",
       "5.0       9363\n",
       "Name: n_parts, dtype: int64"
      ]
     },
     "execution_count": 87,
     "metadata": {},
     "output_type": "execute_result"
    }
   ],
   "source": [
    "\n",
    "df_data.n_parts.value_counts()"
   ]
  },
  {
   "cell_type": "code",
   "execution_count": null,
   "metadata": {},
   "outputs": [],
   "source": []
  },
  {
   "cell_type": "code",
   "execution_count": 88,
   "metadata": {
    "ExecuteTime": {
     "end_time": "2021-03-25T09:28:56.450675Z",
     "start_time": "2021-03-25T09:28:22.553605Z"
    }
   },
   "outputs": [],
   "source": []
  }
 ],
 "metadata": {
  "kernelspec": {
   "display_name": "Python 3",
   "language": "python",
   "name": "python3"
  },
  "language_info": {
   "codemirror_mode": {
    "name": "ipython",
    "version": 3
   },
   "file_extension": ".py",
   "mimetype": "text/x-python",
   "name": "python",
   "nbconvert_exporter": "python",
   "pygments_lexer": "ipython3",
   "version": "3.6.8"
  },
  "toc": {
   "base_numbering": 1,
   "nav_menu": {},
   "number_sections": true,
   "sideBar": true,
   "skip_h1_title": false,
   "title_cell": "Table of Contents",
   "title_sidebar": "Contents",
   "toc_cell": false,
   "toc_position": {},
   "toc_section_display": true,
   "toc_window_display": true
  }
 },
 "nbformat": 4,
 "nbformat_minor": 2
}
