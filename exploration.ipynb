{
 "cells": [
  {
   "cell_type": "code",
   "execution_count": 90,
   "metadata": {
    "ExecuteTime": {
     "end_time": "2021-03-31T08:47:23.580005Z",
     "start_time": "2021-03-31T08:47:23.576875Z"
    }
   },
   "outputs": [],
   "source": [
    "import pandas as pd"
   ]
  },
  {
   "cell_type": "markdown",
   "metadata": {},
   "source": [
    "# 读取数据"
   ]
  },
  {
   "cell_type": "markdown",
   "metadata": {},
   "source": [
    "## 训练集&测试集处理"
   ]
  },
  {
   "cell_type": "code",
   "execution_count": 91,
   "metadata": {
    "ExecuteTime": {
     "end_time": "2021-03-31T08:47:25.894447Z",
     "start_time": "2021-03-31T08:47:25.891860Z"
    }
   },
   "outputs": [],
   "source": [
    "data_org_dir = 'data/data_tencent/'\n",
    "data_prep_dir = 'data/preprocess/'"
   ]
  },
  {
   "cell_type": "code",
   "execution_count": 92,
   "metadata": {
    "ExecuteTime": {
     "end_time": "2021-03-31T08:48:50.812864Z",
     "start_time": "2021-03-31T08:47:27.198638Z"
    }
   },
   "outputs": [],
   "source": [
    "# 特征数据集\n",
    "df_user_feature = pd.read_csv(data_org_dir + 'userFeature.csv')\n",
    "df_ad_feature = pd.read_csv(data_org_dir + 'adFeature.csv')\n",
    "# 训练集\n",
    "df_train = pd.read_csv(data_org_dir + 'train.csv')\n",
    "# 测试集\n",
    "df_test1 = pd.read_csv(data_org_dir + 'test1.csv')\n",
    "df_test2 = pd.read_csv(data_org_dir + 'test2.csv')"
   ]
  },
  {
   "cell_type": "code",
   "execution_count": 93,
   "metadata": {
    "ExecuteTime": {
     "end_time": "2021-03-31T08:48:50.819218Z",
     "start_time": "2021-03-31T08:48:50.815062Z"
    }
   },
   "outputs": [
    {
     "data": {
      "text/plain": [
       "Index(['LBS', 'age', 'appIdAction', 'appIdInstall', 'carrier',\n",
       "       'consumptionAbility', 'ct', 'education', 'gender', 'house', 'interest1',\n",
       "       'interest2', 'interest3', 'interest4', 'interest5', 'kw1', 'kw2', 'kw3',\n",
       "       'marriageStatus', 'os', 'topic1', 'topic2', 'topic3', 'uid'],\n",
       "      dtype='object')"
      ]
     },
     "execution_count": 93,
     "metadata": {},
     "output_type": "execute_result"
    }
   ],
   "source": [
    "df_user_feature.columns"
   ]
  },
  {
   "cell_type": "code",
   "execution_count": 94,
   "metadata": {
    "ExecuteTime": {
     "end_time": "2021-03-31T08:48:50.904329Z",
     "start_time": "2021-03-31T08:48:50.820986Z"
    }
   },
   "outputs": [
    {
     "data": {
      "text/html": [
       "<div>\n",
       "<style scoped>\n",
       "    .dataframe tbody tr th:only-of-type {\n",
       "        vertical-align: middle;\n",
       "    }\n",
       "\n",
       "    .dataframe tbody tr th {\n",
       "        vertical-align: top;\n",
       "    }\n",
       "\n",
       "    .dataframe thead th {\n",
       "        text-align: right;\n",
       "    }\n",
       "</style>\n",
       "<table border=\"1\" class=\"dataframe\">\n",
       "  <thead>\n",
       "    <tr style=\"text-align: right;\">\n",
       "      <th></th>\n",
       "      <th>LBS</th>\n",
       "      <th>age</th>\n",
       "      <th>appIdAction</th>\n",
       "      <th>appIdInstall</th>\n",
       "      <th>carrier</th>\n",
       "      <th>consumptionAbility</th>\n",
       "      <th>ct</th>\n",
       "      <th>education</th>\n",
       "      <th>gender</th>\n",
       "      <th>house</th>\n",
       "      <th>...</th>\n",
       "      <th>interest5</th>\n",
       "      <th>kw1</th>\n",
       "      <th>kw2</th>\n",
       "      <th>kw3</th>\n",
       "      <th>marriageStatus</th>\n",
       "      <th>os</th>\n",
       "      <th>topic1</th>\n",
       "      <th>topic2</th>\n",
       "      <th>topic3</th>\n",
       "      <th>uid</th>\n",
       "    </tr>\n",
       "  </thead>\n",
       "  <tbody>\n",
       "    <tr>\n",
       "      <th>0</th>\n",
       "      <td>950.0</td>\n",
       "      <td>4</td>\n",
       "      <td>NaN</td>\n",
       "      <td>NaN</td>\n",
       "      <td>1</td>\n",
       "      <td>2</td>\n",
       "      <td>3 1</td>\n",
       "      <td>7</td>\n",
       "      <td>2</td>\n",
       "      <td>NaN</td>\n",
       "      <td>...</td>\n",
       "      <td>52 100 72 131 116 11 71 12 8 113 28 73 6 132 9...</td>\n",
       "      <td>664359 276966 734911 103617 562294</td>\n",
       "      <td>11395 79112 115065 77033 36176</td>\n",
       "      <td>NaN</td>\n",
       "      <td>11</td>\n",
       "      <td>2</td>\n",
       "      <td>9826 105 8525 5488 7281</td>\n",
       "      <td>9708 5553 6745 7477 7150</td>\n",
       "      <td>NaN</td>\n",
       "      <td>26325489</td>\n",
       "    </tr>\n",
       "    <tr>\n",
       "      <th>1</th>\n",
       "      <td>803.0</td>\n",
       "      <td>2</td>\n",
       "      <td>NaN</td>\n",
       "      <td>NaN</td>\n",
       "      <td>1</td>\n",
       "      <td>1</td>\n",
       "      <td>3 1</td>\n",
       "      <td>2</td>\n",
       "      <td>1</td>\n",
       "      <td>NaN</td>\n",
       "      <td>...</td>\n",
       "      <td>NaN</td>\n",
       "      <td>338851 361151 542834 496283 229952</td>\n",
       "      <td>80263 39618 53539 180 38163</td>\n",
       "      <td>NaN</td>\n",
       "      <td>5 13</td>\n",
       "      <td>1</td>\n",
       "      <td>4391 9140 5669 1348 4388</td>\n",
       "      <td>9401 7724 1380 8890 7153</td>\n",
       "      <td>NaN</td>\n",
       "      <td>1184123</td>\n",
       "    </tr>\n",
       "    <tr>\n",
       "      <th>2</th>\n",
       "      <td>927.0</td>\n",
       "      <td>1</td>\n",
       "      <td>NaN</td>\n",
       "      <td>NaN</td>\n",
       "      <td>3</td>\n",
       "      <td>1</td>\n",
       "      <td>3 1</td>\n",
       "      <td>5</td>\n",
       "      <td>1</td>\n",
       "      <td>NaN</td>\n",
       "      <td>...</td>\n",
       "      <td>77 72 80 116 101 13 1 109 8 50 6 42 76 9 46 36...</td>\n",
       "      <td>746140 695808 126355 771775 411511</td>\n",
       "      <td>105115 71378 41409 74061 44005</td>\n",
       "      <td>NaN</td>\n",
       "      <td>13 10</td>\n",
       "      <td>1</td>\n",
       "      <td>1502 5488 9826 2187 8088</td>\n",
       "      <td>5005 9154 2756 5612 4209</td>\n",
       "      <td>NaN</td>\n",
       "      <td>76072711</td>\n",
       "    </tr>\n",
       "    <tr>\n",
       "      <th>3</th>\n",
       "      <td>486.0</td>\n",
       "      <td>4</td>\n",
       "      <td>NaN</td>\n",
       "      <td>NaN</td>\n",
       "      <td>3</td>\n",
       "      <td>1</td>\n",
       "      <td>1 3</td>\n",
       "      <td>7</td>\n",
       "      <td>1</td>\n",
       "      <td>NaN</td>\n",
       "      <td>...</td>\n",
       "      <td>100 80 92 37 116 13 47 4 71 8 50 28 98 115 6 4...</td>\n",
       "      <td>283399 402245 734509 654027 32061</td>\n",
       "      <td>74010 32918 67882 116802 20957</td>\n",
       "      <td>NaN</td>\n",
       "      <td>11</td>\n",
       "      <td>1 2</td>\n",
       "      <td>1619 7342 3064 9213 8525</td>\n",
       "      <td>810 2438 5659 1844 9262</td>\n",
       "      <td>NaN</td>\n",
       "      <td>63071413</td>\n",
       "    </tr>\n",
       "    <tr>\n",
       "      <th>4</th>\n",
       "      <td>112.0</td>\n",
       "      <td>5</td>\n",
       "      <td>NaN</td>\n",
       "      <td>NaN</td>\n",
       "      <td>3</td>\n",
       "      <td>2</td>\n",
       "      <td>3 1 4 2</td>\n",
       "      <td>6</td>\n",
       "      <td>1</td>\n",
       "      <td>NaN</td>\n",
       "      <td>...</td>\n",
       "      <td>131 116 13 8 6 132 42 9 59 18 58 64 129 103</td>\n",
       "      <td>562294 157603 589706 657719 495672</td>\n",
       "      <td>62764 97803 89066 55545 74061</td>\n",
       "      <td>NaN</td>\n",
       "      <td>11</td>\n",
       "      <td>1</td>\n",
       "      <td>477 9826 5808 644 2747</td>\n",
       "      <td>5483 2199 5424 1511 7751</td>\n",
       "      <td>NaN</td>\n",
       "      <td>81294159</td>\n",
       "    </tr>\n",
       "  </tbody>\n",
       "</table>\n",
       "<p>5 rows × 24 columns</p>\n",
       "</div>"
      ],
      "text/plain": [
       "     LBS  age appIdAction appIdInstall  carrier  consumptionAbility       ct  \\\n",
       "0  950.0    4         NaN          NaN        1                   2      3 1   \n",
       "1  803.0    2         NaN          NaN        1                   1      3 1   \n",
       "2  927.0    1         NaN          NaN        3                   1      3 1   \n",
       "3  486.0    4         NaN          NaN        3                   1      1 3   \n",
       "4  112.0    5         NaN          NaN        3                   2  3 1 4 2   \n",
       "\n",
       "   education  gender  house  ...  \\\n",
       "0          7       2    NaN  ...   \n",
       "1          2       1    NaN  ...   \n",
       "2          5       1    NaN  ...   \n",
       "3          7       1    NaN  ...   \n",
       "4          6       1    NaN  ...   \n",
       "\n",
       "                                           interest5  \\\n",
       "0  52 100 72 131 116 11 71 12 8 113 28 73 6 132 9...   \n",
       "1                                                NaN   \n",
       "2  77 72 80 116 101 13 1 109 8 50 6 42 76 9 46 36...   \n",
       "3  100 80 92 37 116 13 47 4 71 8 50 28 98 115 6 4...   \n",
       "4        131 116 13 8 6 132 42 9 59 18 58 64 129 103   \n",
       "\n",
       "                                  kw1                             kw2  kw3  \\\n",
       "0  664359 276966 734911 103617 562294  11395 79112 115065 77033 36176  NaN   \n",
       "1  338851 361151 542834 496283 229952     80263 39618 53539 180 38163  NaN   \n",
       "2  746140 695808 126355 771775 411511  105115 71378 41409 74061 44005  NaN   \n",
       "3   283399 402245 734509 654027 32061  74010 32918 67882 116802 20957  NaN   \n",
       "4  562294 157603 589706 657719 495672   62764 97803 89066 55545 74061  NaN   \n",
       "\n",
       "  marriageStatus   os                    topic1                    topic2  \\\n",
       "0             11    2   9826 105 8525 5488 7281  9708 5553 6745 7477 7150   \n",
       "1           5 13    1  4391 9140 5669 1348 4388  9401 7724 1380 8890 7153   \n",
       "2          13 10    1  1502 5488 9826 2187 8088  5005 9154 2756 5612 4209   \n",
       "3             11  1 2  1619 7342 3064 9213 8525   810 2438 5659 1844 9262   \n",
       "4             11    1    477 9826 5808 644 2747  5483 2199 5424 1511 7751   \n",
       "\n",
       "  topic3       uid  \n",
       "0    NaN  26325489  \n",
       "1    NaN   1184123  \n",
       "2    NaN  76072711  \n",
       "3    NaN  63071413  \n",
       "4    NaN  81294159  \n",
       "\n",
       "[5 rows x 24 columns]"
      ]
     },
     "execution_count": 94,
     "metadata": {},
     "output_type": "execute_result"
    }
   ],
   "source": [
    "df_user_feature.head()"
   ]
  },
  {
   "cell_type": "code",
   "execution_count": 95,
   "metadata": {
    "ExecuteTime": {
     "end_time": "2021-03-31T08:48:50.952816Z",
     "start_time": "2021-03-31T08:48:50.905970Z"
    }
   },
   "outputs": [
    {
     "data": {
      "text/html": [
       "<div>\n",
       "<style scoped>\n",
       "    .dataframe tbody tr th:only-of-type {\n",
       "        vertical-align: middle;\n",
       "    }\n",
       "\n",
       "    .dataframe tbody tr th {\n",
       "        vertical-align: top;\n",
       "    }\n",
       "\n",
       "    .dataframe thead th {\n",
       "        text-align: right;\n",
       "    }\n",
       "</style>\n",
       "<table border=\"1\" class=\"dataframe\">\n",
       "  <thead>\n",
       "    <tr style=\"text-align: right;\">\n",
       "      <th></th>\n",
       "      <th>aid</th>\n",
       "      <th>advertiserId</th>\n",
       "      <th>campaignId</th>\n",
       "      <th>creativeId</th>\n",
       "      <th>creativeSize</th>\n",
       "      <th>adCategoryId</th>\n",
       "      <th>productId</th>\n",
       "      <th>productType</th>\n",
       "    </tr>\n",
       "  </thead>\n",
       "  <tbody>\n",
       "    <tr>\n",
       "      <th>0</th>\n",
       "      <td>177</td>\n",
       "      <td>8203</td>\n",
       "      <td>76104</td>\n",
       "      <td>1500666</td>\n",
       "      <td>59</td>\n",
       "      <td>282</td>\n",
       "      <td>0</td>\n",
       "      <td>6</td>\n",
       "    </tr>\n",
       "    <tr>\n",
       "      <th>1</th>\n",
       "      <td>2050</td>\n",
       "      <td>19441</td>\n",
       "      <td>178687</td>\n",
       "      <td>245165</td>\n",
       "      <td>53</td>\n",
       "      <td>1</td>\n",
       "      <td>0</td>\n",
       "      <td>6</td>\n",
       "    </tr>\n",
       "    <tr>\n",
       "      <th>2</th>\n",
       "      <td>1716</td>\n",
       "      <td>5552</td>\n",
       "      <td>158101</td>\n",
       "      <td>1080850</td>\n",
       "      <td>35</td>\n",
       "      <td>27</td>\n",
       "      <td>113</td>\n",
       "      <td>9</td>\n",
       "    </tr>\n",
       "    <tr>\n",
       "      <th>3</th>\n",
       "      <td>336</td>\n",
       "      <td>370</td>\n",
       "      <td>4833</td>\n",
       "      <td>119845</td>\n",
       "      <td>22</td>\n",
       "      <td>67</td>\n",
       "      <td>113</td>\n",
       "      <td>9</td>\n",
       "    </tr>\n",
       "    <tr>\n",
       "      <th>4</th>\n",
       "      <td>671</td>\n",
       "      <td>45705</td>\n",
       "      <td>352827</td>\n",
       "      <td>660519</td>\n",
       "      <td>42</td>\n",
       "      <td>67</td>\n",
       "      <td>0</td>\n",
       "      <td>4</td>\n",
       "    </tr>\n",
       "  </tbody>\n",
       "</table>\n",
       "</div>"
      ],
      "text/plain": [
       "    aid  advertiserId  campaignId  creativeId  creativeSize  adCategoryId  \\\n",
       "0   177          8203       76104     1500666            59           282   \n",
       "1  2050         19441      178687      245165            53             1   \n",
       "2  1716          5552      158101     1080850            35            27   \n",
       "3   336           370        4833      119845            22            67   \n",
       "4   671         45705      352827      660519            42            67   \n",
       "\n",
       "   productId  productType  \n",
       "0          0            6  \n",
       "1          0            6  \n",
       "2        113            9  \n",
       "3        113            9  \n",
       "4          0            4  "
      ]
     },
     "execution_count": 95,
     "metadata": {},
     "output_type": "execute_result"
    }
   ],
   "source": [
    "df_ad_feature.head()"
   ]
  },
  {
   "cell_type": "code",
   "execution_count": 96,
   "metadata": {
    "ExecuteTime": {
     "end_time": "2021-03-31T08:48:51.005481Z",
     "start_time": "2021-03-31T08:48:50.954325Z"
    }
   },
   "outputs": [
    {
     "name": "stdout",
     "output_type": "stream",
     "text": [
      "训练集长度:  8798814\n",
      "Index(['aid', 'uid', 'label'], dtype='object')\n"
     ]
    }
   ],
   "source": [
    "print('训练集长度: ', len(df_train))\n",
    "print(df_train.columns)"
   ]
  },
  {
   "cell_type": "code",
   "execution_count": 97,
   "metadata": {
    "ExecuteTime": {
     "end_time": "2021-03-31T08:48:51.130757Z",
     "start_time": "2021-03-31T08:48:51.007000Z"
    }
   },
   "outputs": [
    {
     "data": {
      "text/plain": [
       "0    8376853\n",
       "1     421961\n",
       "Name: label, dtype: int64"
      ]
     },
     "execution_count": 97,
     "metadata": {},
     "output_type": "execute_result"
    }
   ],
   "source": [
    "# 正负样本比例\n",
    "df_train.label.value_counts()"
   ]
  },
  {
   "cell_type": "code",
   "execution_count": 98,
   "metadata": {
    "ExecuteTime": {
     "end_time": "2021-03-31T08:48:51.136321Z",
     "start_time": "2021-03-31T08:48:51.132383Z"
    }
   },
   "outputs": [
    {
     "data": {
      "text/plain": [
       "'\\n实验时候无需用到测试集\\n'"
      ]
     },
     "execution_count": 98,
     "metadata": {},
     "output_type": "execute_result"
    }
   ],
   "source": [
    "\"\"\"\n",
    "实验时候无需用到测试集\n",
    "\"\"\"\n",
    "# 插入test字段，0代表训练集，1代表测试集1，2代表测试集2\n",
    "# df_test1['test'] = 1\n",
    "# df_test2['test'] = 2\n",
    "\n",
    "# 合并两组测试集合\n",
    "# df_test = pd.concat([df_test1, df_test2], axis=0, ignore_index=True)\n",
    "# df_test['label'] = -1\n",
    "\n",
    "# df_test.test.value_counts()\n",
    "\n",
    "# 合并测试集和训练集\n",
    "# df_train_test = pd.concat([df_train, df_test], axis=0, ignore_index=True)\n",
    "# 训练集的test列为0\n",
    "# df_train_test['test'].fillna(0, inplace=True)\n",
    "\n",
    "# df_train_test.label.value_counts()"
   ]
  },
  {
   "cell_type": "markdown",
   "metadata": {},
   "source": [
    "## 关联特征数据"
   ]
  },
  {
   "cell_type": "code",
   "execution_count": 99,
   "metadata": {
    "ExecuteTime": {
     "end_time": "2021-03-31T08:50:44.331856Z",
     "start_time": "2021-03-31T08:48:51.138301Z"
    }
   },
   "outputs": [],
   "source": [
    "# 关联用户特征\n",
    "df_data = pd.merge(df_train, df_user_feature, on=['uid'], how='left')\n",
    "# 关联广告特征\n",
    "df_data = pd.merge(df_data, df_ad_feature, on=['aid'], how='left')"
   ]
  },
  {
   "cell_type": "code",
   "execution_count": 100,
   "metadata": {
    "ExecuteTime": {
     "end_time": "2021-03-31T08:51:14.899065Z",
     "start_time": "2021-03-31T08:50:44.334013Z"
    }
   },
   "outputs": [
    {
     "data": {
      "text/plain": [
       "aid                         0\n",
       "uid                         0\n",
       "label                       0\n",
       "LBS                        64\n",
       "age                         0\n",
       "appIdAction           8665951\n",
       "appIdInstall          8620544\n",
       "carrier                     0\n",
       "consumptionAbility          0\n",
       "ct                          0\n",
       "education                   0\n",
       "gender                      0\n",
       "house                 7207472\n",
       "interest1              798391\n",
       "interest2             2962021\n",
       "interest3             8566189\n",
       "interest4             8665859\n",
       "interest5             2210891\n",
       "kw1                    882574\n",
       "kw2                    299051\n",
       "kw3                   8396313\n",
       "marriageStatus              0\n",
       "os                          0\n",
       "topic1                 750086\n",
       "topic2                 316545\n",
       "topic3                8395203\n",
       "advertiserId                0\n",
       "campaignId                  0\n",
       "creativeId                  0\n",
       "creativeSize                0\n",
       "adCategoryId                0\n",
       "productId                   0\n",
       "productType                 0\n",
       "dtype: int64"
      ]
     },
     "execution_count": 100,
     "metadata": {},
     "output_type": "execute_result"
    }
   ],
   "source": [
    "df_data.isna().sum()"
   ]
  },
  {
   "cell_type": "code",
   "execution_count": 101,
   "metadata": {
    "ExecuteTime": {
     "end_time": "2021-03-31T08:51:28.643393Z",
     "start_time": "2021-03-31T08:51:14.900853Z"
    }
   },
   "outputs": [],
   "source": [
    "df_data.fillna(-1, inplace=True)\n",
    "\n",
    "df_data['label'] = df_data['label'].astype(float)\n"
   ]
  },
  {
   "cell_type": "markdown",
   "metadata": {},
   "source": [
    "## 构建样本数据\n",
    "由于本次比赛没有给出任何时间特征，所以构造转化率特征时很容易产生数据穿越，从而过拟合。为了解决数据穿越，可以采用分块求转化率，或者贝叶斯平滑等方法。值得注意的是转化率利用预处理所得的分块标签独立出一个分块验证集不加入统计，其余分块做dropout交叉统计，测试集则用全部训练集数据进行统计，很好的解决的数据穿越问题。"
   ]
  },
  {
   "cell_type": "code",
   "execution_count": 102,
   "metadata": {
    "ExecuteTime": {
     "end_time": "2021-03-31T08:51:28.693231Z",
     "start_time": "2021-03-31T08:51:28.645491Z"
    }
   },
   "outputs": [
    {
     "data": {
      "text/plain": [
       "173"
      ]
     },
     "execution_count": 102,
     "metadata": {},
     "output_type": "execute_result"
    }
   ],
   "source": [
    "aid_lst = list(df_data['aid'].unique())\n",
    "len(aid_lst)"
   ]
  },
  {
   "cell_type": "code",
   "execution_count": 52,
   "metadata": {
    "ExecuteTime": {
     "end_time": "2021-03-29T07:49:12.656735Z",
     "start_time": "2021-03-29T07:48:46.044300Z"
    }
   },
   "outputs": [],
   "source": [
    "# params initialazation\n",
    "n_parts = 5  # 数据块的数量\n",
    "data_idx = []\n",
    "for i in range(n_parts):\n",
    "    data_idx.append([])\n",
    "\n",
    "for aid in aid_lst:  # 保证在每一块数据里都有全部的广告id\n",
    "    # 截取该广告id下的全部数据\n",
    "    df_data_aid = df_data[df_data['aid'] == aid]\n",
    "    for k in [0, 1]:  # 对正负样本loop\n",
    "        idx_lst = list(df_data_aid[df_data_aid['label'] == k].sample(frac=1, random_state=10).index)  # sample是为了能够shuffle一下\n",
    "        cut = [0]\n",
    "        for i in range(n_parts):\n",
    "            # 将该部分数据平均分成5块，每一块数据的end idx\n",
    "            end_idx = int((i + 1) * len(idx_lst) / n_parts) + 1\n",
    "            cut.append(end_idx)\n",
    "        for j in range(n_parts):\n",
    "            # 将每一块数据的row idx拼接到list里\n",
    "            idx2append = idx_lst[cut[j]: cut[j + 1]]\n",
    "            data_idx[j].extend(idx2append)"
   ]
  },
  {
   "cell_type": "code",
   "execution_count": 55,
   "metadata": {
    "ExecuteTime": {
     "end_time": "2021-03-29T07:50:09.519942Z",
     "start_time": "2021-03-29T07:50:03.073490Z"
    }
   },
   "outputs": [
    {
     "name": "stderr",
     "output_type": "stream",
     "text": [
      "/usr/local/lib/python3.6/dist-packages/ipykernel_launcher.py:2: DeprecationWarning: The default dtype for empty Series will be 'object' instead of 'float64' in a future version. Specify a dtype explicitly to silence this warning.\n",
      "  \n"
     ]
    },
    {
     "name": "stdout",
     "output_type": "stream",
     "text": [
      "5215782    1\n",
      "7794089    1\n",
      "4243595    1\n",
      "8322191    1\n",
      "2006005    1\n",
      "          ..\n",
      "5636562    5\n",
      "178748     5\n",
      "8768063    5\n",
      "2007290    5\n",
      "4715286    5\n",
      "Length: 8798814, dtype: int64\n"
     ]
    }
   ],
   "source": [
    "# 构建数据集分块标记\n",
    "n_parts_col = pd.Series()\n",
    "for n in range(n_parts):\n",
    "    nth_part = pd.Series(n + 1, index=data_idx[n])\n",
    "    n_parts_col = n_parts_col.append(nth_part)\n",
    "print(len(n_parts_col) == len(df_data))\n",
    "\n",
    "df_data.insert(0, 'n_parts', list(pd.Series(df_data.index).map(n_parts_col).values))"
   ]
  },
  {
   "cell_type": "code",
   "execution_count": 60,
   "metadata": {
    "ExecuteTime": {
     "end_time": "2021-03-29T08:21:05.296527Z",
     "start_time": "2021-03-29T08:21:05.203429Z"
    }
   },
   "outputs": [
    {
     "data": {
      "text/plain": [
       "1    1759974\n",
       "3    1759770\n",
       "4    1759756\n",
       "2    1759756\n",
       "5    1759558\n",
       "Name: n_parts, dtype: int64"
      ]
     },
     "execution_count": 60,
     "metadata": {},
     "output_type": "execute_result"
    }
   ],
   "source": [
    "df_data.n_parts.value_counts()"
   ]
  },
  {
   "cell_type": "code",
   "execution_count": 66,
   "metadata": {
    "ExecuteTime": {
     "end_time": "2021-03-29T08:58:31.327371Z",
     "start_time": "2021-03-29T08:50:34.264442Z"
    }
   },
   "outputs": [
    {
     "name": "stdout",
     "output_type": "stream",
     "text": [
      "=================\n",
      "训练数据集长度为7038840\n",
      "包含item数量为:  173\n",
      "=================\n",
      "验证数据集长度为1759974\n",
      "包含item数量为:  173\n",
      "=================\n",
      "数据块1长度为1759974\n",
      "包含item数量为:  173\n",
      "=================\n",
      "数据块2长度为1759756\n",
      "包含item数量为:  173\n",
      "=================\n",
      "数据块3长度为1759770\n",
      "包含item数量为:  173\n",
      "=================\n",
      "数据块4长度为1759756\n",
      "包含item数量为:  173\n",
      "=================\n",
      "数据块5长度为1759558\n",
      "包含item数量为:  173\n",
      "All data are saved!!\n"
     ]
    }
   ],
   "source": [
    "# 训练集和验证集切割+储存\n",
    "df_valid = df_data[df_data['n_parts'] == 1]\n",
    "df_train = df_data[df_data['n_parts'] != 1]\n",
    "\n",
    "df_train.to_csv(data_prep_dir + 'train_data.csv', index=False)\n",
    "df_valid.to_csv(data_prep_dir + 'validation_data.csv', index=False)\n",
    "\n",
    "print('=================')\n",
    "print('训练数据集长度为{}'.format(len(df_train)))\n",
    "# print('正负样本数量为: ', df_train.label.value_counts())\n",
    "print('包含item数量为: ', int(df_train.aid.nunique()))\n",
    "\n",
    "print('=================')\n",
    "print('验证数据集长度为{}'.format(len(df_valid)))\n",
    "# print('正负样本数量为: ', df_valid.label.value_counts())\n",
    "print('包含item数量为: ', int(df_valid.aid.nunique()))\n",
    "\n",
    "\n",
    "# 储存各数据块\n",
    "length = 0\n",
    "for i in range(n_parts):\n",
    "    df_data_sub = df_data[df_data['n_parts'] == i + 1]\n",
    "    print('=================')\n",
    "    print('数据块{}长度为{}'.format(i + 1, len(df_data_sub)))\n",
    "#     print('正负样本数量为: ', df_data_sub.label.value_counts())\n",
    "    print('包含item数量为: ', int(df_data_sub.aid.nunique()))\n",
    "    df_data_sub.to_csv(data_prep_dir + 'train_chunk_{}.csv'.format(i + 1), index=False)\n",
    "\n",
    "df_data.to_csv(data_prep_dir + 'train_feat_merge.csv', index=False)\n",
    "\n",
    "print('All datasets are saved!!')"
   ]
  },
  {
   "cell_type": "markdown",
   "metadata": {},
   "source": [
    "## 构建小规模实验数据"
   ]
  },
  {
   "cell_type": "code",
   "execution_count": 113,
   "metadata": {
    "ExecuteTime": {
     "end_time": "2021-03-31T09:03:44.411774Z",
     "start_time": "2021-03-31T09:03:43.357525Z"
    }
   },
   "outputs": [
    {
     "name": "stderr",
     "output_type": "stream",
     "text": [
      "/usr/local/lib/python3.6/dist-packages/pandas/core/frame.py:3997: SettingWithCopyWarning: \n",
      "A value is trying to be set on a copy of a slice from a DataFrame\n",
      "\n",
      "See the caveats in the documentation: https://pandas.pydata.org/pandas-docs/stable/user_guide/indexing.html#returning-a-view-versus-a-copy\n",
      "  errors=errors,\n"
     ]
    },
    {
     "data": {
      "text/plain": [
       "527717"
      ]
     },
     "execution_count": 113,
     "metadata": {},
     "output_type": "execute_result"
    }
   ],
   "source": [
    "df_mini = df_data[df_data['n_parts'] == 5]\n",
    "df_mini.drop('n_parts', axis=1, inplace=True)\n",
    "len(df_mini)"
   ]
  },
  {
   "cell_type": "code",
   "execution_count": 114,
   "metadata": {
    "ExecuteTime": {
     "end_time": "2021-03-31T09:04:02.537100Z",
     "start_time": "2021-03-31T09:03:47.544760Z"
    }
   },
   "outputs": [
    {
     "name": "stderr",
     "output_type": "stream",
     "text": [
      "/usr/local/lib/python3.6/dist-packages/ipykernel_launcher.py:23: DeprecationWarning: The default dtype for empty Series will be 'object' instead of 'float64' in a future version. Specify a dtype explicitly to silence this warning.\n"
     ]
    },
    {
     "name": "stdout",
     "output_type": "stream",
     "text": [
      "True\n",
      "train_data_mini:  351578\n",
      "validation_data_mini:  176139\n"
     ]
    }
   ],
   "source": [
    "\n",
    "\n",
    "# params initialazation\n",
    "n_parts = 3  # 数据块的数量\n",
    "data_idx = []\n",
    "for i in range(n_parts):\n",
    "    data_idx.append([])\n",
    "\n",
    "for aid in aid_lst:  # 保证在每一块数据里都有全部的广告id\n",
    "    # 截取该广告id下的全部数据\n",
    "    df_data_aid = df_mini[df_mini['aid'] == aid]\n",
    "    for k in [0, 1]:  # 对正负样本loop\n",
    "        idx_lst = list(df_data_aid[df_data_aid['label'] == k].sample(frac=1, random_state=10).index)  # sample是为了能够shuffle一下\n",
    "        cut = [0]\n",
    "        for i in range(n_parts):\n",
    "            # 将该部分数据平均分成5块，每一块数据的end idx\n",
    "            end_idx = int((i + 1) * len(idx_lst) / n_parts) + 1\n",
    "            cut.append(end_idx)\n",
    "        for j in range(n_parts):\n",
    "            # 将每一块数据的row idx拼接到list里\n",
    "            idx2append = idx_lst[cut[j]: cut[j + 1]]\n",
    "            data_idx[j].extend(idx2append)\n",
    "            \n",
    "# 构建数据集分块标记\n",
    "n_parts_col = pd.Series()\n",
    "for n in range(n_parts):\n",
    "    nth_part = pd.Series(n + 1, index=data_idx[n])\n",
    "    n_parts_col = n_parts_col.append(nth_part)\n",
    "print(len(n_parts_col) == len(df_mini))\n",
    "\n",
    "df_mini.insert(0, 'n_parts', list(pd.Series(df_mini.index).map(n_parts_col).values))\n",
    "\n",
    "# 训练集和验证集切割+储存\n",
    "df_valid = df_mini[df_mini['n_parts'] == 1]\n",
    "df_train = df_mini[df_mini['n_parts'] != 1]\n",
    "print('train_data_mini: ', len(df_train))\n",
    "print('validation_data_mini: ', len(df_valid))\n",
    "df_train.to_csv(data_prep_dir + 'train_data_mini.csv', index=False)\n",
    "df_valid.to_csv(data_prep_dir + 'validation_data_mini.csv', index=False)\n",
    "df_mini.to_csv(data_prep_dir + 'train_feat_merge_mini.csv', index=False)\n",
    "\n"
   ]
  },
  {
   "cell_type": "code",
   "execution_count": 115,
   "metadata": {
    "ExecuteTime": {
     "end_time": "2021-03-31T09:05:15.225344Z",
     "start_time": "2021-03-31T09:05:05.720922Z"
    }
   },
   "outputs": [],
   "source": [
    "df_mini.to_csv(data_prep_dir + 'train_feat_merge_mini.csv', index=False)"
   ]
  },
  {
   "cell_type": "markdown",
   "metadata": {},
   "source": [
    "# 数据探索"
   ]
  },
  {
   "cell_type": "code",
   "execution_count": 67,
   "metadata": {
    "ExecuteTime": {
     "end_time": "2021-03-29T08:58:31.353191Z",
     "start_time": "2021-03-29T08:58:31.329450Z"
    }
   },
   "outputs": [
    {
     "data": {
      "text/html": [
       "<div>\n",
       "<style scoped>\n",
       "    .dataframe tbody tr th:only-of-type {\n",
       "        vertical-align: middle;\n",
       "    }\n",
       "\n",
       "    .dataframe tbody tr th {\n",
       "        vertical-align: top;\n",
       "    }\n",
       "\n",
       "    .dataframe thead th {\n",
       "        text-align: right;\n",
       "    }\n",
       "</style>\n",
       "<table border=\"1\" class=\"dataframe\">\n",
       "  <thead>\n",
       "    <tr style=\"text-align: right;\">\n",
       "      <th></th>\n",
       "      <th>n_parts</th>\n",
       "      <th>aid</th>\n",
       "      <th>uid</th>\n",
       "      <th>label</th>\n",
       "      <th>LBS</th>\n",
       "      <th>age</th>\n",
       "      <th>appIdAction</th>\n",
       "      <th>appIdInstall</th>\n",
       "      <th>carrier</th>\n",
       "      <th>consumptionAbility</th>\n",
       "      <th>...</th>\n",
       "      <th>topic1</th>\n",
       "      <th>topic2</th>\n",
       "      <th>topic3</th>\n",
       "      <th>advertiserId</th>\n",
       "      <th>campaignId</th>\n",
       "      <th>creativeId</th>\n",
       "      <th>creativeSize</th>\n",
       "      <th>adCategoryId</th>\n",
       "      <th>productId</th>\n",
       "      <th>productType</th>\n",
       "    </tr>\n",
       "  </thead>\n",
       "  <tbody>\n",
       "    <tr>\n",
       "      <th>0</th>\n",
       "      <td>1</td>\n",
       "      <td>699</td>\n",
       "      <td>78508957</td>\n",
       "      <td>0.0</td>\n",
       "      <td>576.0</td>\n",
       "      <td>1</td>\n",
       "      <td>-1</td>\n",
       "      <td>-1</td>\n",
       "      <td>0</td>\n",
       "      <td>1</td>\n",
       "      <td>...</td>\n",
       "      <td>4908 9745 7070 4203 3292</td>\n",
       "      <td>-1</td>\n",
       "      <td>-1</td>\n",
       "      <td>1082</td>\n",
       "      <td>295940</td>\n",
       "      <td>731679</td>\n",
       "      <td>59</td>\n",
       "      <td>13</td>\n",
       "      <td>0</td>\n",
       "      <td>6</td>\n",
       "    </tr>\n",
       "    <tr>\n",
       "      <th>1</th>\n",
       "      <td>1</td>\n",
       "      <td>1991</td>\n",
       "      <td>3637295</td>\n",
       "      <td>0.0</td>\n",
       "      <td>353.0</td>\n",
       "      <td>3</td>\n",
       "      <td>-1</td>\n",
       "      <td>-1</td>\n",
       "      <td>1</td>\n",
       "      <td>0</td>\n",
       "      <td>...</td>\n",
       "      <td>8445 6762 7608 523 7688</td>\n",
       "      <td>4518 862 3643 702 5247</td>\n",
       "      <td>-1</td>\n",
       "      <td>702</td>\n",
       "      <td>42104</td>\n",
       "      <td>1441131</td>\n",
       "      <td>53</td>\n",
       "      <td>10</td>\n",
       "      <td>4669</td>\n",
       "      <td>11</td>\n",
       "    </tr>\n",
       "    <tr>\n",
       "      <th>2</th>\n",
       "      <td>2</td>\n",
       "      <td>1119</td>\n",
       "      <td>19229018</td>\n",
       "      <td>0.0</td>\n",
       "      <td>94.0</td>\n",
       "      <td>4</td>\n",
       "      <td>-1</td>\n",
       "      <td>-1</td>\n",
       "      <td>0</td>\n",
       "      <td>0</td>\n",
       "      <td>...</td>\n",
       "      <td>941 4674 9735 8953 5352</td>\n",
       "      <td>-1</td>\n",
       "      <td>-1</td>\n",
       "      <td>3993</td>\n",
       "      <td>63752</td>\n",
       "      <td>798752</td>\n",
       "      <td>59</td>\n",
       "      <td>10</td>\n",
       "      <td>19256</td>\n",
       "      <td>11</td>\n",
       "    </tr>\n",
       "    <tr>\n",
       "      <th>3</th>\n",
       "      <td>1</td>\n",
       "      <td>2013</td>\n",
       "      <td>79277120</td>\n",
       "      <td>0.0</td>\n",
       "      <td>48.0</td>\n",
       "      <td>2</td>\n",
       "      <td>-1</td>\n",
       "      <td>-1</td>\n",
       "      <td>1</td>\n",
       "      <td>1</td>\n",
       "      <td>...</td>\n",
       "      <td>4538 6790 8850 3422 1940</td>\n",
       "      <td>2979 1877 358 666 4166</td>\n",
       "      <td>-1</td>\n",
       "      <td>6937</td>\n",
       "      <td>186348</td>\n",
       "      <td>1427984</td>\n",
       "      <td>35</td>\n",
       "      <td>89</td>\n",
       "      <td>3791</td>\n",
       "      <td>9</td>\n",
       "    </tr>\n",
       "    <tr>\n",
       "      <th>4</th>\n",
       "      <td>1</td>\n",
       "      <td>692</td>\n",
       "      <td>41528441</td>\n",
       "      <td>0.0</td>\n",
       "      <td>333.0</td>\n",
       "      <td>1</td>\n",
       "      <td>-1</td>\n",
       "      <td>-1</td>\n",
       "      <td>1</td>\n",
       "      <td>1</td>\n",
       "      <td>...</td>\n",
       "      <td>4535 5590 47 5570 2078</td>\n",
       "      <td>856 4587 1877 392 9103</td>\n",
       "      <td>-1</td>\n",
       "      <td>6946</td>\n",
       "      <td>296367</td>\n",
       "      <td>455396</td>\n",
       "      <td>59</td>\n",
       "      <td>24</td>\n",
       "      <td>3794</td>\n",
       "      <td>11</td>\n",
       "    </tr>\n",
       "  </tbody>\n",
       "</table>\n",
       "<p>5 rows × 34 columns</p>\n",
       "</div>"
      ],
      "text/plain": [
       "   n_parts   aid       uid  label    LBS  age appIdAction appIdInstall  \\\n",
       "0        1   699  78508957    0.0  576.0    1          -1           -1   \n",
       "1        1  1991   3637295    0.0  353.0    3          -1           -1   \n",
       "2        2  1119  19229018    0.0   94.0    4          -1           -1   \n",
       "3        1  2013  79277120    0.0   48.0    2          -1           -1   \n",
       "4        1   692  41528441    0.0  333.0    1          -1           -1   \n",
       "\n",
       "   carrier  consumptionAbility  ...                    topic1  \\\n",
       "0        0                   1  ...  4908 9745 7070 4203 3292   \n",
       "1        1                   0  ...   8445 6762 7608 523 7688   \n",
       "2        0                   0  ...   941 4674 9735 8953 5352   \n",
       "3        1                   1  ...  4538 6790 8850 3422 1940   \n",
       "4        1                   1  ...    4535 5590 47 5570 2078   \n",
       "\n",
       "                   topic2  topic3  advertiserId campaignId creativeId  \\\n",
       "0                      -1      -1          1082     295940     731679   \n",
       "1  4518 862 3643 702 5247      -1           702      42104    1441131   \n",
       "2                      -1      -1          3993      63752     798752   \n",
       "3  2979 1877 358 666 4166      -1          6937     186348    1427984   \n",
       "4  856 4587 1877 392 9103      -1          6946     296367     455396   \n",
       "\n",
       "  creativeSize adCategoryId productId productType  \n",
       "0           59           13         0           6  \n",
       "1           53           10      4669          11  \n",
       "2           59           10     19256          11  \n",
       "3           35           89      3791           9  \n",
       "4           59           24      3794          11  \n",
       "\n",
       "[5 rows x 34 columns]"
      ]
     },
     "execution_count": 67,
     "metadata": {},
     "output_type": "execute_result"
    }
   ],
   "source": [
    "df_data.head()"
   ]
  },
  {
   "cell_type": "markdown",
   "metadata": {},
   "source": [
    "## 正负样本比例"
   ]
  },
  {
   "cell_type": "code",
   "execution_count": 68,
   "metadata": {
    "ExecuteTime": {
     "end_time": "2021-03-29T08:58:31.551672Z",
     "start_time": "2021-03-29T08:58:31.354973Z"
    }
   },
   "outputs": [
    {
     "data": {
      "text/plain": [
       "0.0    8376853\n",
       "1.0     421961\n",
       "Name: label, dtype: int64"
      ]
     },
     "execution_count": 68,
     "metadata": {},
     "output_type": "execute_result"
    }
   ],
   "source": [
    "df_data.label.value_counts()\n",
    "# pos 421961 / neg 8376853"
   ]
  },
  {
   "cell_type": "markdown",
   "metadata": {},
   "source": [
    "## 用户特征insight"
   ]
  },
  {
   "cell_type": "code",
   "execution_count": 69,
   "metadata": {
    "ExecuteTime": {
     "end_time": "2021-03-29T08:58:31.557020Z",
     "start_time": "2021-03-29T08:58:31.553321Z"
    }
   },
   "outputs": [
    {
     "data": {
      "text/plain": [
       "Index(['n_parts', 'aid', 'uid', 'label', 'LBS', 'age', 'appIdAction',\n",
       "       'appIdInstall', 'carrier', 'consumptionAbility', 'ct', 'education',\n",
       "       'gender', 'house', 'interest1', 'interest2', 'interest3', 'interest4',\n",
       "       'interest5', 'kw1', 'kw2', 'kw3', 'marriageStatus', 'os', 'topic1',\n",
       "       'topic2', 'topic3', 'advertiserId', 'campaignId', 'creativeId',\n",
       "       'creativeSize', 'adCategoryId', 'productId', 'productType'],\n",
       "      dtype='object')"
      ]
     },
     "execution_count": 69,
     "metadata": {},
     "output_type": "execute_result"
    }
   ],
   "source": [
    "df_data.columns"
   ]
  },
  {
   "cell_type": "markdown",
   "metadata": {},
   "source": [
    "\n",
    "### uid 用户id\n",
    "- 含义：用户id\n",
    "\n",
    "\n",
    "### label 样本标记\n",
    "- 含义：正负样本标记 train_pos 1 / train_neg 0 / test -1\n",
    "\n",
    "\n",
    "### test 是否测试集合\n",
    "- 含义：测试数据集合标记，1表示测试集1，2表示测试集2\n",
    "\n",
    "### LBS 用户位置\n",
    "- 含义：Location Based Services，相当于一个用户位置的分类\n"
   ]
  },
  {
   "cell_type": "code",
   "execution_count": 19,
   "metadata": {
    "ExecuteTime": {
     "end_time": "2021-03-29T04:06:43.251376Z",
     "start_time": "2021-03-29T04:06:43.096483Z"
    }
   },
   "outputs": [
    {
     "data": {
      "text/plain": [
       "864"
      ]
     },
     "execution_count": 19,
     "metadata": {},
     "output_type": "execute_result"
    }
   ],
   "source": [
    "df_data.LBS.nunique()  # Location Based Services"
   ]
  },
  {
   "cell_type": "markdown",
   "metadata": {},
   "source": [
    "### age 年龄\n",
    "- 离散特征，无缺失值"
   ]
  },
  {
   "cell_type": "code",
   "execution_count": 127,
   "metadata": {
    "ExecuteTime": {
     "end_time": "2021-03-26T08:14:30.474657Z",
     "start_time": "2021-03-26T08:14:30.402059Z"
    }
   },
   "outputs": [
    {
     "data": {
      "text/plain": [
       "array([1, 3, 4, 2, 5, 0])"
      ]
     },
     "execution_count": 127,
     "metadata": {},
     "output_type": "execute_result"
    }
   ],
   "source": [
    "df_data.age.unique()"
   ]
  },
  {
   "cell_type": "markdown",
   "metadata": {},
   "source": [
    "### appIdAction\n",
    "- 含义：\n",
    "- 序列特征，string形式，各元素用空格分隔，缺失值用-1表示"
   ]
  },
  {
   "cell_type": "code",
   "execution_count": 128,
   "metadata": {
    "ExecuteTime": {
     "end_time": "2021-03-26T08:15:31.296245Z",
     "start_time": "2021-03-26T08:15:30.949319Z"
    }
   },
   "outputs": [
    {
     "data": {
      "text/plain": [
       "array([-1, '2183 4807 2911', '3269 562 4041 4973 1088 5266', ...,\n",
       "       '1559 5606 27 1266 2283 5531 725 1968 2964 4106 2892 2755',\n",
       "       '3287 4058 562 2168',\n",
       "       '517 3292 2482 1584 4572 3269 872 4324 4114 3457 5983 2192'],\n",
       "      dtype=object)"
      ]
     },
     "execution_count": 128,
     "metadata": {},
     "output_type": "execute_result"
    }
   ],
   "source": [
    "df_data.appIdAction.unique()"
   ]
  },
  {
   "cell_type": "markdown",
   "metadata": {},
   "source": [
    "### appIdInstall 安装的APP\n",
    "- 序列特征，string形式，各元素用空格分隔，缺失值用-1表示"
   ]
  },
  {
   "cell_type": "code",
   "execution_count": 73,
   "metadata": {
    "ExecuteTime": {
     "end_time": "2021-03-29T09:01:43.088522Z",
     "start_time": "2021-03-29T09:01:42.772468Z"
    }
   },
   "outputs": [
    {
     "data": {
      "text/plain": [
       "array([-1,\n",
       "       '60806 8899 7764 50585 19763 45857 50704 12226 45134 47751 11938 19039 13158 47826 59290',\n",
       "       '10876 45028 6071 29193 55984 26035 37826 42554 58506 23206 64678 40044 25207 4980 12004 61664 45505 1123 3237 57061 47366 62385 24522 56616 34691 22759 63809 30699 60283 52013 21970 54768 9174 47169 49587 50237 18814 46808 37518 59311 42747 14237 46809 28827 59290 19020 57849 13132 14380 39261 19039 22164 11245 144 40038 58031 64692 42892 41664 35015 57514 12035 16267'],\n",
       "      dtype=object)"
      ]
     },
     "execution_count": 73,
     "metadata": {},
     "output_type": "execute_result"
    }
   ],
   "source": [
    "df_data.appIdInstall.unique()[:3]"
   ]
  },
  {
   "cell_type": "markdown",
   "metadata": {},
   "source": [
    "### carrier运营商\n",
    "- 离散特征，无缺失情况"
   ]
  },
  {
   "cell_type": "code",
   "execution_count": 133,
   "metadata": {
    "ExecuteTime": {
     "end_time": "2021-03-26T08:28:32.342601Z",
     "start_time": "2021-03-26T08:28:32.269461Z"
    }
   },
   "outputs": [
    {
     "data": {
      "text/plain": [
       "array([0, 1, 3, 2])"
      ]
     },
     "execution_count": 133,
     "metadata": {},
     "output_type": "execute_result"
    }
   ],
   "source": [
    "df_data.carrier.unique()"
   ]
  },
  {
   "cell_type": "markdown",
   "metadata": {},
   "source": [
    "### consumptionAbility 消费能力等级\n",
    "- 离散特征，无缺失值"
   ]
  },
  {
   "cell_type": "code",
   "execution_count": 134,
   "metadata": {
    "ExecuteTime": {
     "end_time": "2021-03-26T08:30:23.656281Z",
     "start_time": "2021-03-26T08:30:23.580087Z"
    }
   },
   "outputs": [
    {
     "data": {
      "text/plain": [
       "array([1, 0, 2])"
      ]
     },
     "execution_count": 134,
     "metadata": {},
     "output_type": "execute_result"
    }
   ],
   "source": [
    "df_data.consumptionAbility.unique()"
   ]
  },
  {
   "cell_type": "markdown",
   "metadata": {},
   "source": [
    "### ct\n",
    "- 含义：\n",
    "- 序列特征，无缺失值，各元素用空格分隔，缺失值用-1表示"
   ]
  },
  {
   "cell_type": "code",
   "execution_count": 135,
   "metadata": {
    "ExecuteTime": {
     "end_time": "2021-03-26T08:30:59.259535Z",
     "start_time": "2021-03-26T08:30:58.443784Z"
    }
   },
   "outputs": [
    {
     "data": {
      "text/plain": [
       "array(['0', '3', '3 1', '1 3 4', '4 1 3', '3 1 2', '1 3', '3 4 1 2',\n",
       "       '3 2 4 1', '3 1 4', '3 4 1', '1 4 3', '1', '1 3 2 4', '3 1 4 2',\n",
       "       '1 3 2', '3 2 4', '2 3 1', '4 3 1', '3 4', '3 2 1 4', '2 1 3',\n",
       "       '3 2', '3 4 2', '3 2 1', '1 2 3', '1 3 4 2', '1 4 3 2', '1 2 3 4',\n",
       "       '4', '2 3 1 4', '3 1 2 4', '1 2', '2 3', '1 4', '1 4 2 3', '4 3',\n",
       "       '1 2 4 3', '2 4 1 3', '2 1 3 4', '4 1 3 2', '4 3 2', '4 3 1 2',\n",
       "       '4 1', '4 2 3 1', '2', '4 1 2 3', '2 4 3 1', '2 4 3', '2 3 4',\n",
       "       '3 4 2 1', '2 4', '2 3 4 1', '2 1', '4 2 1 3', '2 1 4 3', '4 2 3',\n",
       "       '1 4 2', '1 2 4', '4 2 1', '4 3 2 1', '4 1 2', '2 4 1', '4 2',\n",
       "       '2 1 4'], dtype=object)"
      ]
     },
     "execution_count": 135,
     "metadata": {},
     "output_type": "execute_result"
    }
   ],
   "source": [
    "df_data.ct.unique()"
   ]
  },
  {
   "cell_type": "markdown",
   "metadata": {},
   "source": [
    "### education 受教育等级\n",
    "- 离散特征，无缺失值，"
   ]
  },
  {
   "cell_type": "code",
   "execution_count": 136,
   "metadata": {
    "ExecuteTime": {
     "end_time": "2021-03-26T08:33:31.034578Z",
     "start_time": "2021-03-26T08:33:30.953524Z"
    }
   },
   "outputs": [
    {
     "data": {
      "text/plain": [
       "array([1, 7, 2, 6, 5, 0, 3, 4])"
      ]
     },
     "execution_count": 136,
     "metadata": {},
     "output_type": "execute_result"
    }
   ],
   "source": [
    "df_data.education.unique()"
   ]
  },
  {
   "cell_type": "markdown",
   "metadata": {},
   "source": [
    "### gender 性别"
   ]
  },
  {
   "cell_type": "code",
   "execution_count": 72,
   "metadata": {
    "ExecuteTime": {
     "end_time": "2021-03-29T08:59:02.121946Z",
     "start_time": "2021-03-29T08:59:02.073865Z"
    }
   },
   "outputs": [
    {
     "data": {
      "text/plain": [
       "array([1, 2, 0])"
      ]
     },
     "execution_count": 72,
     "metadata": {},
     "output_type": "execute_result"
    }
   ],
   "source": [
    "df_data.gender.unique()"
   ]
  },
  {
   "cell_type": "markdown",
   "metadata": {},
   "source": [
    "### house 有没有房产\n",
    "- 离散特征，有缺失值，用-1填充"
   ]
  },
  {
   "cell_type": "code",
   "execution_count": 74,
   "metadata": {
    "ExecuteTime": {
     "end_time": "2021-03-29T09:02:37.836591Z",
     "start_time": "2021-03-29T09:02:37.730562Z"
    }
   },
   "outputs": [
    {
     "data": {
      "text/plain": [
       "array([-1.,  1.])"
      ]
     },
     "execution_count": 74,
     "metadata": {},
     "output_type": "execute_result"
    }
   ],
   "source": [
    "df_data.house.unique()"
   ]
  },
  {
   "cell_type": "markdown",
   "metadata": {},
   "source": [
    "### interest1 to interest5 用户兴趣\n",
    "- 序列特征，空格分割，有缺失值，用-1填充"
   ]
  },
  {
   "cell_type": "code",
   "execution_count": 75,
   "metadata": {
    "ExecuteTime": {
     "end_time": "2021-03-29T09:04:11.865153Z",
     "start_time": "2021-03-29T09:04:07.539339Z"
    }
   },
   "outputs": [
    {
     "data": {
      "text/plain": [
       "array(['70 100 48 49 23 36 11', '93 109 75 29 59 49 6 5 73 46 22 36 11 3'],\n",
       "      dtype=object)"
      ]
     },
     "execution_count": 75,
     "metadata": {},
     "output_type": "execute_result"
    }
   ],
   "source": [
    "df_data.interest1.unique()[:2]"
   ]
  },
  {
   "cell_type": "markdown",
   "metadata": {},
   "source": [
    "### kw1 to kw3 关键词（搜索？）\n",
    "- 序列特征，空格分割，有缺失值，用-1填充"
   ]
  },
  {
   "cell_type": "code",
   "execution_count": 76,
   "metadata": {
    "ExecuteTime": {
     "end_time": "2021-03-29T09:05:16.486151Z",
     "start_time": "2021-03-29T09:05:08.942549Z"
    }
   },
   "outputs": [
    {
     "data": {
      "text/plain": [
       "array(['124532 762727 771871 8561 610048',\n",
       "       '531499 542834 303322 503318 68211'], dtype=object)"
      ]
     },
     "execution_count": 76,
     "metadata": {},
     "output_type": "execute_result"
    }
   ],
   "source": [
    "df_data.kw1.unique()[:2]"
   ]
  },
  {
   "cell_type": "markdown",
   "metadata": {},
   "source": [
    "### marriageStatus 婚姻状况（？？？）\n",
    "- 序列特征，不定长，无缺失值"
   ]
  },
  {
   "cell_type": "code",
   "execution_count": 77,
   "metadata": {
    "ExecuteTime": {
     "end_time": "2021-03-29T09:06:06.222748Z",
     "start_time": "2021-03-29T09:06:05.421624Z"
    }
   },
   "outputs": [
    {
     "data": {
      "text/plain": [
       "array(['10', '13', '13 10', '11', '13 9', '0', '12 13', '15', '13 15',\n",
       "       '6 13', '2 13', '5 13', '6 13 9', '14', '12 13 9', '12 13 10',\n",
       "       '2 13 9', '5 13 9', '3', '8', '15 10', '5 13 10', '6 13 10',\n",
       "       '13 15 10', '13 10 9', '2 13 10'], dtype=object)"
      ]
     },
     "execution_count": 77,
     "metadata": {},
     "output_type": "execute_result"
    }
   ],
   "source": [
    "df_data.marriageStatus.unique()"
   ]
  },
  {
   "cell_type": "markdown",
   "metadata": {},
   "source": [
    "### os 手机系统\n",
    "- 序列特征，不定长，无缺失值"
   ]
  },
  {
   "cell_type": "code",
   "execution_count": 79,
   "metadata": {
    "ExecuteTime": {
     "end_time": "2021-03-29T09:09:16.846891Z",
     "start_time": "2021-03-29T09:09:16.501706Z"
    }
   },
   "outputs": [
    {
     "data": {
      "text/plain": [
       "array(['0', '1', '2', '1 2', '2 1'], dtype=object)"
      ]
     },
     "execution_count": 79,
     "metadata": {},
     "output_type": "execute_result"
    }
   ],
   "source": [
    "df_data.os.unique()"
   ]
  },
  {
   "cell_type": "markdown",
   "metadata": {},
   "source": [
    "### topic1 to topic3\n",
    "- 序列特征，定长，缺失值-1填充"
   ]
  },
  {
   "cell_type": "code",
   "execution_count": 81,
   "metadata": {
    "ExecuteTime": {
     "end_time": "2021-03-29T09:10:48.089678Z",
     "start_time": "2021-03-29T09:10:42.836055Z"
    }
   },
   "outputs": [
    {
     "data": {
      "text/plain": [
       "array(['4908 9745 7070 4203 3292', '8445 6762 7608 523 7688',\n",
       "       '941 4674 9735 8953 5352'], dtype=object)"
      ]
     },
     "execution_count": 81,
     "metadata": {},
     "output_type": "execute_result"
    }
   ],
   "source": [
    "df_data.topic1.unique()[:3]"
   ]
  },
  {
   "cell_type": "markdown",
   "metadata": {},
   "source": [
    "## 广告特征insight"
   ]
  },
  {
   "cell_type": "markdown",
   "metadata": {},
   "source": [
    "### aid 广告id\n",
    "含义：广告id"
   ]
  },
  {
   "cell_type": "code",
   "execution_count": 71,
   "metadata": {
    "ExecuteTime": {
     "end_time": "2021-03-29T08:58:46.373611Z",
     "start_time": "2021-03-29T08:58:46.323941Z"
    }
   },
   "outputs": [
    {
     "data": {
      "text/plain": [
       "173"
      ]
     },
     "execution_count": 71,
     "metadata": {},
     "output_type": "execute_result"
    }
   ],
   "source": [
    "df_data.aid.nunique()"
   ]
  },
  {
   "cell_type": "markdown",
   "metadata": {},
   "source": [
    "### advertiserId 广告商id\n",
    "- 无缺失"
   ]
  },
  {
   "cell_type": "code",
   "execution_count": 82,
   "metadata": {
    "ExecuteTime": {
     "end_time": "2021-03-29T09:11:51.083575Z",
     "start_time": "2021-03-29T09:11:51.035095Z"
    }
   },
   "outputs": [
    {
     "data": {
      "text/plain": [
       "79"
      ]
     },
     "execution_count": 82,
     "metadata": {},
     "output_type": "execute_result"
    }
   ],
   "source": [
    "df_data.advertiserId.nunique()"
   ]
  },
  {
   "cell_type": "markdown",
   "metadata": {},
   "source": [
    "### campaignId 活动id"
   ]
  },
  {
   "cell_type": "code",
   "execution_count": 85,
   "metadata": {
    "ExecuteTime": {
     "end_time": "2021-03-29T09:12:41.889570Z",
     "start_time": "2021-03-29T09:12:41.839629Z"
    }
   },
   "outputs": [
    {
     "data": {
      "text/plain": [
       "138"
      ]
     },
     "execution_count": 85,
     "metadata": {},
     "output_type": "execute_result"
    }
   ],
   "source": [
    "df_data.campaignId.nunique()"
   ]
  },
  {
   "cell_type": "markdown",
   "metadata": {},
   "source": [
    "### creativeId"
   ]
  },
  {
   "cell_type": "code",
   "execution_count": 84,
   "metadata": {
    "ExecuteTime": {
     "end_time": "2021-03-29T09:12:38.053714Z",
     "start_time": "2021-03-29T09:12:38.002722Z"
    }
   },
   "outputs": [
    {
     "data": {
      "text/plain": [
       "173"
      ]
     },
     "execution_count": 84,
     "metadata": {},
     "output_type": "execute_result"
    }
   ],
   "source": [
    "df_data.creativeId.nunique()"
   ]
  },
  {
   "cell_type": "markdown",
   "metadata": {},
   "source": [
    "### creativeSize"
   ]
  },
  {
   "cell_type": "code",
   "execution_count": 86,
   "metadata": {
    "ExecuteTime": {
     "end_time": "2021-03-29T09:12:52.381448Z",
     "start_time": "2021-03-29T09:12:52.334088Z"
    }
   },
   "outputs": [
    {
     "data": {
      "text/plain": [
       "15"
      ]
     },
     "execution_count": 86,
     "metadata": {},
     "output_type": "execute_result"
    }
   ],
   "source": [
    "df_data.creativeSize.nunique()"
   ]
  },
  {
   "cell_type": "markdown",
   "metadata": {},
   "source": [
    "### adCategoryId 广告分类id"
   ]
  },
  {
   "cell_type": "code",
   "execution_count": 87,
   "metadata": {
    "ExecuteTime": {
     "end_time": "2021-03-29T09:13:04.232296Z",
     "start_time": "2021-03-29T09:13:04.181099Z"
    }
   },
   "outputs": [
    {
     "data": {
      "text/plain": [
       "40"
      ]
     },
     "execution_count": 87,
     "metadata": {},
     "output_type": "execute_result"
    }
   ],
   "source": [
    "df_data.adCategoryId.nunique()"
   ]
  },
  {
   "cell_type": "markdown",
   "metadata": {},
   "source": [
    "### productId 广告产品id"
   ]
  },
  {
   "cell_type": "code",
   "execution_count": 88,
   "metadata": {
    "ExecuteTime": {
     "end_time": "2021-03-29T09:13:15.153637Z",
     "start_time": "2021-03-29T09:13:15.105957Z"
    }
   },
   "outputs": [
    {
     "data": {
      "text/plain": [
       "33"
      ]
     },
     "execution_count": 88,
     "metadata": {},
     "output_type": "execute_result"
    }
   ],
   "source": [
    "df_data.productId.nunique()"
   ]
  },
  {
   "cell_type": "markdown",
   "metadata": {},
   "source": [
    "### productType 广告产品分类"
   ]
  },
  {
   "cell_type": "code",
   "execution_count": 89,
   "metadata": {
    "ExecuteTime": {
     "end_time": "2021-03-29T09:13:30.635585Z",
     "start_time": "2021-03-29T09:13:30.584773Z"
    }
   },
   "outputs": [
    {
     "data": {
      "text/plain": [
       "4"
      ]
     },
     "execution_count": 89,
     "metadata": {},
     "output_type": "execute_result"
    }
   ],
   "source": [
    "df_data.productType.nunique()"
   ]
  }
 ],
 "metadata": {
  "kernelspec": {
   "display_name": "Python 3",
   "language": "python",
   "name": "python3"
  },
  "language_info": {
   "codemirror_mode": {
    "name": "ipython",
    "version": 3
   },
   "file_extension": ".py",
   "mimetype": "text/x-python",
   "name": "python",
   "nbconvert_exporter": "python",
   "pygments_lexer": "ipython3",
   "version": "3.6.8"
  },
  "toc": {
   "base_numbering": 1,
   "nav_menu": {},
   "number_sections": true,
   "sideBar": true,
   "skip_h1_title": false,
   "title_cell": "Table of Contents",
   "title_sidebar": "Contents",
   "toc_cell": false,
   "toc_position": {},
   "toc_section_display": true,
   "toc_window_display": true
  }
 },
 "nbformat": 4,
 "nbformat_minor": 2
}
