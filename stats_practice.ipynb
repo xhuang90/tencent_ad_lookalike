{
 "cells": [
  {
   "cell_type": "code",
   "execution_count": 15,
   "metadata": {
    "ExecuteTime": {
     "end_time": "2021-04-20T09:12:52.240515Z",
     "start_time": "2021-04-20T09:12:52.236073Z"
    }
   },
   "outputs": [],
   "source": [
    "import pandas as pd\n",
    "import numpy as np\n",
    "import matplotlib.pyplot as plt\n",
    "import seaborn as sns\n",
    "from scipy import stats"
   ]
  },
  {
   "cell_type": "markdown",
   "metadata": {},
   "source": [
    "# 单样本检验\n",
    "汽车引擎新排放标准是平均值<20ppm，现某公司抽取10台汽车样本，其引擎排放水平为 15.6 16.2 22.5 20.5 16.4 19.4 16.6 17.9 12.7 13.9，判断该公司汽车是否符合新排放标准？"
   ]
  },
  {
   "cell_type": "code",
   "execution_count": 4,
   "metadata": {
    "ExecuteTime": {
     "end_time": "2021-04-20T08:19:34.493492Z",
     "start_time": "2021-04-20T08:19:34.488687Z"
    }
   },
   "outputs": [],
   "source": [
    "dataset = pd.Series([15.6, 16.2, 22.5, 20.5, 16.4, 19.4, 16.6, 17.9, 12.7, 13.9])"
   ]
  },
  {
   "cell_type": "markdown",
   "metadata": {},
   "source": [
    "## 描述统计信息\n",
    "首先查看样本的描述统计信息，包括平均值，标准差等。"
   ]
  },
  {
   "cell_type": "code",
   "execution_count": 5,
   "metadata": {
    "ExecuteTime": {
     "end_time": "2021-04-20T08:21:10.570247Z",
     "start_time": "2021-04-20T08:21:10.561386Z"
    }
   },
   "outputs": [
    {
     "name": "stdout",
     "output_type": "stream",
     "text": [
      "sample_mean 17.169999999999998\n",
      "sample_std 2.9814426038413018\n"
     ]
    }
   ],
   "source": [
    "#计算样本平均值\n",
    "sample_mean = dataset.mean()\n",
    "sample_std = dataset.std()\n",
    "'''\n",
    "这里要区别的是数据集的标准差，和样本标准差。\n",
    "数据集的标准差公式是除以n，样本标准差的公式是除以n-1.\n",
    "样本标准差的作用是用样本标准差估计总体标准差。\n",
    "pandas计算的标准差，默认除以的是n-1，也就是计算出样本的标准差。\n",
    "'''\n",
    "print('sample_mean', sample_mean)\n",
    "print('sample_std', sample_std)"
   ]
  },
  {
   "cell_type": "markdown",
   "metadata": {},
   "source": [
    "## 定义假设\n",
    "\n",
    "问题描述：判断该公司汽车引擎是否符合新排放标准\n",
    "\n",
    "- 零假设：公司引擎排放不满足标准，即平均值>=20\n",
    "- 备选假设：公司引擎排放满足标准，即平均值<20\n",
    "- 检验类型：本案例是检验单个样本平均值是否等于目标值，所以是检验类型是单样本检验。\n",
    "- 抽样分布类型：该样本n=10，不是正态分布，可将数据集可视化判断样本分布类型。"
   ]
  },
  {
   "cell_type": "code",
   "execution_count": 9,
   "metadata": {
    "ExecuteTime": {
     "end_time": "2021-04-20T08:41:07.044007Z",
     "start_time": "2021-04-20T08:41:06.703302Z"
    }
   },
   "outputs": [
    {
     "data": {
      "image/png": "[encoded data removed]",
      "text/plain": [
       "<Figure size 360x360 with 1 Axes>"
      ]
     },
     "metadata": {
      "needs_background": "light"
     },
     "output_type": "display_data"
    }
   ],
   "source": [
    "sns.displot(dataset)\n",
    "plt.title('distribution')\n",
    "plt.show()\n",
    "\n",
    "# 从样本的数据集分布可看出，图形近似正态分布，符合t分布。"
   ]
  },
  {
   "cell_type": "markdown",
   "metadata": {
    "ExecuteTime": {
     "end_time": "2021-04-20T08:55:20.127259Z",
     "start_time": "2021-04-20T08:55:20.110117Z"
    }
   },
   "source": [
    "## 求出指标证据\n",
    "\n",
    "- 即求出零假设成立时，得到样本平均值的概率p值。\n",
    "- 有两种方法，一种是手动求得，一种是用python中的stats求得。"
   ]
  },
  {
   "cell_type": "code",
   "execution_count": 14,
   "metadata": {
    "ExecuteTime": {
     "end_time": "2021-04-20T09:09:08.247184Z",
     "start_time": "2021-04-20T09:09:08.233711Z"
    }
   },
   "outputs": [
    {
     "data": {
      "text/plain": [
       "-3.001649525885985"
      ]
     },
     "execution_count": 14,
     "metadata": {},
     "output_type": "execute_result"
    }
   ],
   "source": [
    "# 样本大小\n",
    "n = len(dataset)\n",
    "# 标准误差 = 样本标准差 / (n的开方)\n",
    "std_error = sample_std / np.sqrt(n)\n",
    "# 总体平均值, 即要求达到的标准20\n",
    "pop_mean = 20\n",
    "# t值\n",
    "t = (sample_mean - pop_mean) / std_error\n",
    "t"
   ]
  },
  {
   "cell_type": "code",
   "execution_count": 17,
   "metadata": {
    "ExecuteTime": {
     "end_time": "2021-04-20T09:20:47.650883Z",
     "start_time": "2021-04-20T09:20:47.644034Z"
    }
   },
   "outputs": [
    {
     "name": "stdout",
     "output_type": "stream",
     "text": [
      "t -3.001649525885985\n",
      "p_one_tail 0.0074582071244487635\n",
      "p_two_tail 0.014916414248897527\n"
     ]
    }
   ],
   "source": [
    "t, p_two_tail = stats.ttest_1samp(dataset, pop_mean)\n",
    "p_one_tail = p_two_tail / 2\n",
    "print('t', t)\n",
    "print('p_one_tail', p_one_tail)\n",
    "print('p_two_tail', p_two_tail)"
   ]
  },
  {
   "cell_type": "markdown",
   "metadata": {},
   "source": [
    "## 判断标准\n",
    "\n",
    "- 即显著水平`alpha`的取值，一般可取0.1%，1%，5%，视实际情况而定，本案例取显著水平`alpha` = 5%"
   ]
  },
  {
   "cell_type": "code",
   "execution_count": 20,
   "metadata": {
    "ExecuteTime": {
     "end_time": "2021-04-20T09:25:03.879781Z",
     "start_time": "2021-04-20T09:25:03.873640Z"
    }
   },
   "outputs": [
    {
     "name": "stdout",
     "output_type": "stream",
     "text": [
      "拒绝零假设，有统计显著，即汽车引擎排放满足新标准\n"
     ]
    }
   ],
   "source": [
    "\"\"\"\n",
    "左尾判断条件：t<0 and p < 判断标准（显著水平）alpha\n",
    "右尾判断条件：t>0 and p < 判断标准（显著水平）alpha\n",
    "\"\"\"\n",
    "alpha = 0.05\n",
    "\n",
    "if t < 0 and p_one_tail < alpha:\n",
    "    \n",
    "    print('拒绝零假设，有统计显著，即汽车引擎排放满足新标准')\n",
    "\n",
    "else:\n",
    "    print('接受零假设，没有统计显著，即汽车引擎排放不满足新标准')\n"
   ]
  },
  {
   "cell_type": "markdown",
   "metadata": {},
   "source": [
    "## 置信区间\n",
    "用来估计总体的均值范围"
   ]
  },
  {
   "cell_type": "code",
   "execution_count": 21,
   "metadata": {
    "ExecuteTime": {
     "end_time": "2021-04-20T09:35:51.571670Z",
     "start_time": "2021-04-20T09:35:51.566653Z"
    }
   },
   "outputs": [
    {
     "name": "stdout",
     "output_type": "stream",
     "text": [
      "单个样本平均值的置信区间 CI = [17.109188436749246, 17.23081156325075]\n"
     ]
    }
   ],
   "source": [
    "# 求置信区间\n",
    "\"\"\"\n",
    "a = 样本平均值 - t_ci * 标准误差\n",
    "b = 样本平均值 + t_ci * 标准误差\n",
    "\"\"\"\n",
    "# 查找t表格获取95%置信水平，自由度是n-1对应的t值\n",
    "t_ci = 0.0645\n",
    "# 计算标准误差\n",
    "se = stats.sem(dataset)\n",
    "a = sample_mean - t_ci * se\n",
    "b = sample_mean + t_ci * se\n",
    "\n",
    "print('单个样本平均值的置信区间 CI =', [a, b])\n"
   ]
  },
  {
   "cell_type": "markdown",
   "metadata": {},
   "source": [
    "## 效应量\n",
    "\n",
    "量化显著差异，即得出差异大小，使做出的决策更具目的性。\n",
    "\n",
    "### 差异指标"
   ]
  },
  {
   "cell_type": "code",
   "execution_count": 23,
   "metadata": {
    "ExecuteTime": {
     "end_time": "2021-04-20T09:40:35.623294Z",
     "start_time": "2021-04-20T09:40:35.618415Z"
    }
   },
   "outputs": [
    {
     "name": "stdout",
     "output_type": "stream",
     "text": [
      "0.9492049239364257\n"
     ]
    }
   ],
   "source": [
    "\"\"\"\n",
    "效应量 Cohen's d\n",
    "\"\"\"\n",
    "d = (sample_mean - pop_mean) / sample_std\n",
    "print(abs(d))\n",
    "# 效果显著（差异大）"
   ]
  },
  {
   "cell_type": "markdown",
   "metadata": {},
   "source": [
    "### 相关度指标"
   ]
  },
  {
   "cell_type": "code",
   "execution_count": null,
   "metadata": {},
   "outputs": [],
   "source": []
  },
  {
   "cell_type": "code",
   "execution_count": null,
   "metadata": {},
   "outputs": [],
   "source": []
  },
  {
   "cell_type": "code",
   "execution_count": null,
   "metadata": {},
   "outputs": [],
   "source": []
  }
 ],
 "metadata": {
  "kernelspec": {
   "display_name": "Python 3",
   "language": "python",
   "name": "python3"
  },
  "language_info": {
   "codemirror_mode": {
    "name": "ipython",
    "version": 3
   },
   "file_extension": ".py",
   "mimetype": "text/x-python",
   "name": "python",
   "nbconvert_exporter": "python",
   "pygments_lexer": "ipython3",
   "version": "3.6.8"
  },
  "toc": {
   "base_numbering": 1,
   "nav_menu": {},
   "number_sections": true,
   "sideBar": true,
   "skip_h1_title": false,
   "title_cell": "Table of Contents",
   "title_sidebar": "Contents",
   "toc_cell": false,
   "toc_position": {},
   "toc_section_display": true,
   "toc_window_display": true
  }
 },
 "nbformat": 4,
 "nbformat_minor": 2
}
