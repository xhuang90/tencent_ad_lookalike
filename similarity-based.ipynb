{
 "cells": [
  {
   "cell_type": "code",
   "execution_count": 1,
   "metadata": {
    "ExecuteTime": {
     "end_time": "2021-04-15T03:15:01.819181Z",
     "start_time": "2021-04-15T03:15:00.824847Z"
    }
   },
   "outputs": [],
   "source": [
    "from tqdm import tqdm\n",
    "import os\n",
    "import numpy as np\n",
    "import time\n",
    "import random\n",
    "import pandas as pd\n",
    "from scipy import sparse\n",
    "from sklearn.metrics import roc_auc_score, log_loss\n",
    "from sklearn.model_selection import train_test_split\n",
    "from sklearn.linear_model import LogisticRegression\n",
    "from sklearn.feature_extraction.text import CountVectorizer\n",
    "from sklearn.preprocessing import OneHotEncoder,LabelEncoder\n",
    "from lightgbm import LGBMClassifier\n",
    "import warnings\n",
    "warnings.filterwarnings(\"ignore\")"
   ]
  },
  {
   "cell_type": "code",
   "execution_count": 2,
   "metadata": {
    "ExecuteTime": {
     "end_time": "2021-04-15T03:15:06.959371Z",
     "start_time": "2021-04-15T03:15:06.956006Z"
    }
   },
   "outputs": [],
   "source": [
    "data_org_dir = 'data/data_tencent/'\n",
    "data_prep_dir = 'data/preprocess/'\n",
    "# data_prep_dir = 'data/sample/'\n",
    "sample_test = False"
   ]
  },
  {
   "cell_type": "code",
   "execution_count": 3,
   "metadata": {
    "ExecuteTime": {
     "end_time": "2021-04-15T03:16:20.334233Z",
     "start_time": "2021-04-15T03:15:16.271076Z"
    }
   },
   "outputs": [],
   "source": [
    "if sample_test:\n",
    "    df_data = pd.read_csv(data_prep_dir + 'train_feat_merge_mini.csv')\n",
    "else:\n",
    "    df_data = pd.read_csv(data_prep_dir + 'train_feat_merge.csv')\n",
    "\n",
    "train_idx_lst = list(df_data[df_data['n_parts'] != 1].index)\n",
    "valid_idx_lst = list(df_data[df_data['n_parts'] == 1].index)"
   ]
  },
  {
   "cell_type": "code",
   "execution_count": 4,
   "metadata": {
    "ExecuteTime": {
     "end_time": "2021-04-15T03:22:45.599319Z",
     "start_time": "2021-04-15T03:22:18.665127Z"
    }
   },
   "outputs": [
    {
     "name": "stdout",
     "output_type": "stream",
     "text": [
      "x_train: (7038840, 800)\n",
      "x_valid: (1759974, 800)\n",
      "y_train: (7038840,)\n",
      "y_valid: (1759974,)\n"
     ]
    }
   ],
   "source": [
    "# construct x matrix\n",
    "x_train = sparse.load_npz(data_prep_dir + 'train_x_sparse_selection.npz')\n",
    "x_valid = sparse.load_npz(data_prep_dir + 'valid_x_sparse_selection.npz')\n",
    "\n",
    "print('x_train:', x_train.shape)\n",
    "print('x_valid:', x_valid.shape)\n",
    "\n",
    "# construct y vector\n",
    "y_train = np.array(df_data[df_data['n_parts'] != 1]['label'])\n",
    "y_valid = np.array(df_data[df_data['n_parts'] == 1]['label'])\n",
    "\n",
    "print('y_train:', y_train.shape)\n",
    "print('y_valid:', y_valid.shape)"
   ]
  },
  {
   "cell_type": "code",
   "execution_count": null,
   "metadata": {},
   "outputs": [],
   "source": []
  }
 ],
 "metadata": {
  "kernelspec": {
   "display_name": "Python 3",
   "language": "python",
   "name": "python3"
  },
  "language_info": {
   "codemirror_mode": {
    "name": "ipython",
    "version": 3
   },
   "file_extension": ".py",
   "mimetype": "text/x-python",
   "name": "python",
   "nbconvert_exporter": "python",
   "pygments_lexer": "ipython3",
   "version": "3.6.8"
  },
  "toc": {
   "base_numbering": 1,
   "nav_menu": {},
   "number_sections": true,
   "sideBar": true,
   "skip_h1_title": false,
   "title_cell": "Table of Contents",
   "title_sidebar": "Contents",
   "toc_cell": false,
   "toc_position": {},
   "toc_section_display": true,
   "toc_window_display": false
  }
 },
 "nbformat": 4,
 "nbformat_minor": 2
}
